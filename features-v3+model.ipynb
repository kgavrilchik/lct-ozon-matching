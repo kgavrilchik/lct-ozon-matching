{
 "cells": [
  {
   "cell_type": "code",
   "execution_count": 52,
   "id": "362e3259",
   "metadata": {},
   "outputs": [
    {
     "data": {
      "application/vnd.jupyter.widget-view+json": {
       "model_id": "34d49e1c2d7d415abd794bafaab5b208",
       "version_major": 2,
       "version_minor": 0
      },
      "text/plain": [
       "0it [00:00, ?it/s]"
      ]
     },
     "metadata": {},
     "output_type": "display_data"
    }
   ],
   "source": [
    "import json\n",
    "import re\n",
    "import pandas as pd\n",
    "import numpy as np\n",
    "import catboost as cb\n",
    "from nltk.tokenize import RegexpTokenizer\n",
    "from gensim.models import Word2Vec\n",
    "from nltk import ngrams\n",
    "import os\n",
    "import dill\n",
    "\n",
    "from sklearn.feature_extraction.text import TfidfVectorizer\n",
    "from sklearn.model_selection import train_test_split\n",
    "from sklearn.metrics import pairwise_distances\n",
    "from collections import Counter\n",
    "from metric import pr_auc_macro\n",
    "from utils import process_nan, try_cast_to_float, augment\n",
    "from distances import cosine_distance, cosine_distances, jaccard\n",
    "import Levenshtein\n",
    "import jellyfish\n",
    "\n",
    "from tqdm.auto import tqdm\n",
    "tqdm().pandas()"
   ]
  },
  {
   "cell_type": "code",
   "execution_count": 53,
   "id": "c72165d8",
   "metadata": {},
   "outputs": [],
   "source": [
    "data = pd.read_parquet('../hackathon_files_for_participants_ozon/train_data.parquet')\n",
    "\n",
    "test_pairs = pd.read_parquet('../hackathon_files_for_participants_ozon/test_pairs_wo_target.parquet')\n",
    "test_data = pd.read_parquet('../hackathon_files_for_participants_ozon/test_data.parquet')"
   ]
  },
  {
   "cell_type": "code",
   "execution_count": 54,
   "id": "a0642e6b",
   "metadata": {},
   "outputs": [],
   "source": [
    "def _merge_pictures(main_pic, rest_pic):\n",
    "    if rest_pic is None:\n",
    "        return np.stack(main_pic)\n",
    "    \n",
    "    return np.concatenate((np.stack(main_pic), np.stack(rest_pic)))\n",
    "\n",
    "\n",
    "def _tokenize_attributes(attributes):\n",
    "    if not attributes:\n",
    "        return []\n",
    "\n",
    "    tokens = []\n",
    "    \n",
    "    for k, vs in attributes.items():\n",
    "        for v in vs:\n",
    "            token = ''\n",
    "            token += k.replace(' ', '_')\n",
    "            token += '='\n",
    "            token += v.replace(' ', '_')\n",
    "            tokens.append(token)\n",
    "    return tokens\n",
    "\n",
    "\n",
    "import nltk\n",
    "import string\n",
    "from nltk.corpus import stopwords\n",
    "from nltk.stem.snowball import SnowballStemmer\n",
    "from nltk.tokenize import word_tokenize\n",
    "\n",
    "stop_words = set(stopwords.words('russian'))\n",
    "stemmer = SnowballStemmer('russian')\n",
    "_tokenizer = RegexpTokenizer(r'\\w+')\n",
    "\n",
    "\n",
    "def preprocess_text(text):\n",
    "    # Tokenize the text into individual words\n",
    "    tokens = _tokenizer.tokenize(text.lower())\n",
    "\n",
    "    # Remove stopwords\n",
    "    tokens = [word for word in tokens if word not in stop_words]\n",
    "\n",
    "    # Apply stemming using the Snowball stemmer\n",
    "    stemmed_tokens = [stemmer.stem(word) for word in tokens]\n",
    "\n",
    "    return stemmed_tokens\n",
    "\n",
    "\n",
    "def preprocess_data(df):\n",
    "    # types\n",
    "    df['categories'] = df['categories'].apply(json.loads)\n",
    "    df['characteristic_attributes_mapping'] = (\n",
    "        df['characteristic_attributes_mapping']\n",
    "        .apply(lambda row: json.loads(row) if row is not None else None)\n",
    "    )\n",
    "    \n",
    "    # merge all pictures\n",
    "    df['all_pic_embeddings_resnet_v1'] = (\n",
    "        df.apply(\n",
    "            lambda row: _merge_pictures(row.main_pic_embeddings_resnet_v1, row.pic_embeddings_resnet_v1),\n",
    "            axis=1,\n",
    "        )\n",
    "    )\n",
    "    \n",
    "    # normalize categories\n",
    "    _categories = pd.json_normalize(df['categories'])\n",
    "    _categories.columns = [f'category_{c}' for c in _categories]\n",
    "\n",
    "    df = pd.concat([df, _categories], axis=1)\n",
    "    df.drop(['categories'], axis=1, inplace=True)\n",
    "    \n",
    "    # tokenize\n",
    "    _tokenizer = RegexpTokenizer(r'\\w+')\n",
    "\n",
    "    df['tokenized_name'] = df['name'].apply(preprocess_text)\n",
    "    df['tokenized_attributes'] = df['characteristic_attributes_mapping'].apply(_tokenize_attributes)\n",
    "    df['tokenized_name_ebi'] = df['name'].apply(lambda x: re.findall(r'\\b[\\w|/|\\-|.]*\\d\\w*\\b', x.lower()))\n",
    "    df['tokenized_name_en'] = df['name'].apply(lambda x: re.findall(r'\\b[a-zA-Z]+\\b', x.lower()))\n",
    "    df['tokenized_name_ru'] = df['name'].apply(lambda x: re.findall(r'\\b[а-яА-Я]+\\b', x.lower()))\n",
    "    \n",
    "    # todo: ngrams of this ebi\n",
    "    \n",
    "    return df"
   ]
  },
  {
   "cell_type": "code",
   "execution_count": 55,
   "id": "f8e2a711",
   "metadata": {},
   "outputs": [],
   "source": [
    "data = preprocess_data(data)\n",
    "test_data = preprocess_data(test_data)"
   ]
  },
  {
   "cell_type": "code",
   "execution_count": 56,
   "id": "634e583b",
   "metadata": {},
   "outputs": [],
   "source": [
    "test_pairs = (\n",
    "    test_pairs\n",
    "    .merge(\n",
    "        test_data\n",
    "        .add_suffix('_1'),\n",
    "        left_on=['variantid1'],\n",
    "        right_on=['variantid_1'],\n",
    "    )\n",
    "    .merge(\n",
    "        test_data\n",
    "        .add_suffix('_2'),\n",
    "        left_on=['variantid2'],\n",
    "        right_on=['variantid_2'],\n",
    "    )\n",
    ").drop(['variantid_1', 'variantid_2'], axis=1)"
   ]
  },
  {
   "cell_type": "code",
   "execution_count": 57,
   "id": "2dbfb7d7",
   "metadata": {},
   "outputs": [],
   "source": [
    "all_pairs = pd.read_pickle('features_v2.pickle')"
   ]
  },
  {
   "cell_type": "code",
   "execution_count": 58,
   "id": "0a9ad9eb",
   "metadata": {},
   "outputs": [
    {
     "data": {
      "application/vnd.jupyter.widget-view+json": {
       "model_id": "24c4cb176cd343758188d0b753c7a2ba",
       "version_major": 2,
       "version_minor": 0
      },
      "text/plain": [
       "  0%|          | 0/18084 [00:00<?, ?it/s]"
      ]
     },
     "metadata": {},
     "output_type": "display_data"
    },
    {
     "name": "stdout",
     "output_type": "stream",
     "text": [
      "CPU times: user 2.09 s, sys: 143 ms, total: 2.23 s\n",
      "Wall time: 2.26 s\n"
     ]
    },
    {
     "name": "stderr",
     "output_type": "stream",
     "text": [
      "<timed exec>:9: PerformanceWarning: DataFrame is highly fragmented.  This is usually the result of calling `frame.insert` many times, which has poor performance.  Consider joining all columns at once using pd.concat(axis=1) instead. To get a de-fragmented frame, use `newframe = frame.copy()`\n"
     ]
    }
   ],
   "source": [
    "%%time\n",
    "\n",
    "model = dill.load(open('tfidf_tokenized_name_ebi.model', 'rb'))\n",
    "\n",
    "vectors = np.asarray(model.transform(all_pairs['tokenized_name_ebi_1']).todense())\n",
    "all_pairs['_emb_1'] = list(vectors)\n",
    "\n",
    "vectors = np.asarray(model.transform(all_pairs['tokenized_name_ebi_2']).todense())\n",
    "all_pairs['_emb_2'] = list(vectors)\n",
    "\n",
    "all_pairs['names_ebi_tfidf_distance'] = (\n",
    "    all_pairs.progress_apply(lambda row: cosine_distance(row._emb_1, row._emb_2), axis=1)\n",
    ")"
   ]
  },
  {
   "cell_type": "code",
   "execution_count": 59,
   "id": "71a24144",
   "metadata": {},
   "outputs": [],
   "source": [
    "ebi_vectors = pd.concat([\n",
    "    pd.read_pickle('../hackathon_files_for_participants_ozon/test_data_rubert_tiny_2.pickle')\n",
    "], axis=0).drop_duplicates(subset=['variantid'], keep='last').set_index('variantid')['ebi_vector'].to_dict()"
   ]
  },
  {
   "cell_type": "code",
   "execution_count": 60,
   "id": "83a4ef92",
   "metadata": {},
   "outputs": [
    {
     "data": {
      "application/vnd.jupyter.widget-view+json": {
       "model_id": "45c0c7ab70764cc985699bf30efcbf5c",
       "version_major": 2,
       "version_minor": 0
      },
      "text/plain": [
       "  0%|          | 0/18084 [00:00<?, ?it/s]"
      ]
     },
     "metadata": {},
     "output_type": "display_data"
    },
    {
     "name": "stderr",
     "output_type": "stream",
     "text": [
      "/var/folders/5j/bz9y36mx4k391r74dcjtzzt40000gp/T/ipykernel_98870/3152994114.py:4: PerformanceWarning: DataFrame is highly fragmented.  This is usually the result of calling `frame.insert` many times, which has poor performance.  Consider joining all columns at once using pd.concat(axis=1) instead. To get a de-fragmented frame, use `newframe = frame.copy()`\n",
      "  all_pairs['ebi_vector_distance'] = (\n"
     ]
    }
   ],
   "source": [
    "all_pairs['_emb_1'] = all_pairs['variantid1'].map(ebi_vectors)\n",
    "all_pairs['_emb_2'] = all_pairs['variantid2'].map(ebi_vectors)\n",
    "\n",
    "all_pairs['ebi_vector_distance'] = (\n",
    "    all_pairs.progress_apply(lambda row: cosine_distance(row._emb_1, row._emb_2), axis=1)\n",
    ")"
   ]
  },
  {
   "cell_type": "code",
   "execution_count": 61,
   "id": "5ab82440",
   "metadata": {},
   "outputs": [
    {
     "name": "stderr",
     "output_type": "stream",
     "text": [
      "/var/folders/5j/bz9y36mx4k391r74dcjtzzt40000gp/T/ipykernel_98870/3630575533.py:5: PerformanceWarning: DataFrame is highly fragmented.  This is usually the result of calling `frame.insert` many times, which has poor performance.  Consider joining all columns at once using pd.concat(axis=1) instead. To get a de-fragmented frame, use `newframe = frame.copy()`\n",
      "  all_pairs['tokenized_name_en_1'] = all_pairs['variantid1'].map(f)\n",
      "/var/folders/5j/bz9y36mx4k391r74dcjtzzt40000gp/T/ipykernel_98870/3630575533.py:6: PerformanceWarning: DataFrame is highly fragmented.  This is usually the result of calling `frame.insert` many times, which has poor performance.  Consider joining all columns at once using pd.concat(axis=1) instead. To get a de-fragmented frame, use `newframe = frame.copy()`\n",
      "  all_pairs['tokenized_name_en_2'] = all_pairs['variantid2'].map(f)\n"
     ]
    }
   ],
   "source": [
    "f = pd.concat([\n",
    "    test_data[['variantid', 'tokenized_name_en']],\n",
    "], axis=0).drop_duplicates(subset=['variantid'], keep='last').set_index('variantid')['tokenized_name_en'].to_dict()\n",
    "\n",
    "all_pairs['tokenized_name_en_1'] = all_pairs['variantid1'].map(f)\n",
    "all_pairs['tokenized_name_en_2'] = all_pairs['variantid2'].map(f)"
   ]
  },
  {
   "cell_type": "code",
   "execution_count": 62,
   "id": "09bed559",
   "metadata": {},
   "outputs": [
    {
     "data": {
      "application/vnd.jupyter.widget-view+json": {
       "model_id": "1cd46885a1d34ab1bb487cbf61e3b14a",
       "version_major": 2,
       "version_minor": 0
      },
      "text/plain": [
       "  0%|          | 0/18084 [00:00<?, ?it/s]"
      ]
     },
     "metadata": {},
     "output_type": "display_data"
    },
    {
     "name": "stderr",
     "output_type": "stream",
     "text": [
      "/var/folders/5j/bz9y36mx4k391r74dcjtzzt40000gp/T/ipykernel_98870/2674858989.py:1: PerformanceWarning: DataFrame is highly fragmented.  This is usually the result of calling `frame.insert` many times, which has poor performance.  Consider joining all columns at once using pd.concat(axis=1) instead. To get a de-fragmented frame, use `newframe = frame.copy()`\n",
      "  all_pairs['names_en_jaccard'] = (\n"
     ]
    }
   ],
   "source": [
    "all_pairs['names_en_jaccard'] = (\n",
    "    all_pairs.progress_apply(lambda row: jaccard(row.tokenized_name_en_1, row.tokenized_name_en_2), axis=1)\n",
    ")"
   ]
  },
  {
   "cell_type": "code",
   "execution_count": 63,
   "id": "53402ba2",
   "metadata": {},
   "outputs": [
    {
     "name": "stderr",
     "output_type": "stream",
     "text": [
      "/var/folders/5j/bz9y36mx4k391r74dcjtzzt40000gp/T/ipykernel_98870/518801353.py:5: PerformanceWarning: DataFrame is highly fragmented.  This is usually the result of calling `frame.insert` many times, which has poor performance.  Consider joining all columns at once using pd.concat(axis=1) instead. To get a de-fragmented frame, use `newframe = frame.copy()`\n",
      "  all_pairs['tokenized_name_ru_1'] = all_pairs['variantid1'].map(f)\n",
      "/var/folders/5j/bz9y36mx4k391r74dcjtzzt40000gp/T/ipykernel_98870/518801353.py:6: PerformanceWarning: DataFrame is highly fragmented.  This is usually the result of calling `frame.insert` many times, which has poor performance.  Consider joining all columns at once using pd.concat(axis=1) instead. To get a de-fragmented frame, use `newframe = frame.copy()`\n",
      "  all_pairs['tokenized_name_ru_2'] = all_pairs['variantid2'].map(f)\n"
     ]
    }
   ],
   "source": [
    "f = pd.concat([\n",
    "    test_data[['variantid', 'tokenized_name_ru']],\n",
    "], axis=0).drop_duplicates(subset=['variantid'], keep='last').set_index('variantid')['tokenized_name_ru'].to_dict()\n",
    "\n",
    "all_pairs['tokenized_name_ru_1'] = all_pairs['variantid1'].map(f)\n",
    "all_pairs['tokenized_name_ru_2'] = all_pairs['variantid2'].map(f)"
   ]
  },
  {
   "cell_type": "code",
   "execution_count": 64,
   "id": "ee7ee833",
   "metadata": {},
   "outputs": [
    {
     "data": {
      "application/vnd.jupyter.widget-view+json": {
       "model_id": "c8b82e870d9248e1bcb0bdbf88ae4ab5",
       "version_major": 2,
       "version_minor": 0
      },
      "text/plain": [
       "  0%|          | 0/18084 [00:00<?, ?it/s]"
      ]
     },
     "metadata": {},
     "output_type": "display_data"
    },
    {
     "name": "stderr",
     "output_type": "stream",
     "text": [
      "/var/folders/5j/bz9y36mx4k391r74dcjtzzt40000gp/T/ipykernel_98870/2001394853.py:1: PerformanceWarning: DataFrame is highly fragmented.  This is usually the result of calling `frame.insert` many times, which has poor performance.  Consider joining all columns at once using pd.concat(axis=1) instead. To get a de-fragmented frame, use `newframe = frame.copy()`\n",
      "  all_pairs['names_ru_jaccard'] = (\n"
     ]
    }
   ],
   "source": [
    "all_pairs['names_ru_jaccard'] = (\n",
    "    all_pairs.progress_apply(lambda row: jaccard(row.tokenized_name_ru_1, row.tokenized_name_ru_2), axis=1)\n",
    ")"
   ]
  },
  {
   "cell_type": "code",
   "execution_count": 65,
   "id": "7627d37f",
   "metadata": {},
   "outputs": [
    {
     "name": "stderr",
     "output_type": "stream",
     "text": [
      "/Users/k.gavrilchik/Downloads/ozon-comp/env/lib/python3.11/site-packages/sklearn/feature_extraction/text.py:528: UserWarning: The parameter 'token_pattern' will not be used since 'tokenizer' is not None'\n",
      "  warnings.warn(\n"
     ]
    }
   ],
   "source": [
    "import joblib\n",
    "model = joblib.load('./tfidf_joined.model')\n",
    "\n",
    "vectors = model.fit_transform(all_pairs.apply(\n",
    "    lambda x: ' '.join(x.tokenized_name_1) + ' ' + ' '.join(x.tokenized_name_2), \n",
    "    axis=1,\n",
    ").values)\n",
    "\n",
    "vectors = pd.DataFrame(vectors.todense()).add_prefix('tfidf_vectorizer_')\n",
    "all_pairs = pd.concat([all_pairs, vectors], axis=1)"
   ]
  },
  {
   "cell_type": "code",
   "execution_count": 66,
   "id": "3320426d",
   "metadata": {},
   "outputs": [],
   "source": [
    "embeddings = pd.concat([\n",
    "    pd.read_pickle('../hackathon_files_for_participants_ozon/test_bert_embeddings_768.pickle')\n",
    "], axis=0).drop_duplicates(subset=['variantid'], keep='last').set_index('variantid')['embedding'].to_dict()"
   ]
  },
  {
   "cell_type": "code",
   "execution_count": 67,
   "id": "8a53f189",
   "metadata": {},
   "outputs": [
    {
     "data": {
      "application/vnd.jupyter.widget-view+json": {
       "model_id": "c66d4a859f464af1b2bfb1025e437c81",
       "version_major": 2,
       "version_minor": 0
      },
      "text/plain": [
       "  0%|          | 0/18084 [00:00<?, ?it/s]"
      ]
     },
     "metadata": {},
     "output_type": "display_data"
    },
    {
     "name": "stderr",
     "output_type": "stream",
     "text": [
      "/var/folders/5j/bz9y36mx4k391r74dcjtzzt40000gp/T/ipykernel_98870/3200841628.py:4: PerformanceWarning: DataFrame is highly fragmented.  This is usually the result of calling `frame.insert` many times, which has poor performance.  Consider joining all columns at once using pd.concat(axis=1) instead. To get a de-fragmented frame, use `newframe = frame.copy()`\n",
      "  all_pairs['bert_768_vector_distance'] = (\n"
     ]
    }
   ],
   "source": [
    "all_pairs['_emb_1'] = all_pairs['variantid1'].map(embeddings)\n",
    "all_pairs['_emb_2'] = all_pairs['variantid2'].map(embeddings)\n",
    "\n",
    "all_pairs['bert_768_vector_distance'] = (\n",
    "    all_pairs.progress_apply(lambda row: cosine_distance(row._emb_1, row._emb_2), axis=1)\n",
    ")"
   ]
  },
  {
   "cell_type": "code",
   "execution_count": 68,
   "id": "56769e50",
   "metadata": {},
   "outputs": [
    {
     "data": {
      "application/vnd.jupyter.widget-view+json": {
       "model_id": "8c53de2d2cb84cb398f28963d4d3de8b",
       "version_major": 2,
       "version_minor": 0
      },
      "text/plain": [
       "  0%|          | 0/18084 [00:00<?, ?it/s]"
      ]
     },
     "metadata": {},
     "output_type": "display_data"
    },
    {
     "name": "stderr",
     "output_type": "stream",
     "text": [
      "/var/folders/5j/bz9y36mx4k391r74dcjtzzt40000gp/T/ipykernel_98870/2493536329.py:12: PerformanceWarning: DataFrame is highly fragmented.  This is usually the result of calling `frame.insert` many times, which has poor performance.  Consider joining all columns at once using pd.concat(axis=1) instead. To get a de-fragmented frame, use `newframe = frame.copy()`\n",
      "  all_pairs['complectation_names_jaccard_1'] = (\n"
     ]
    },
    {
     "data": {
      "application/vnd.jupyter.widget-view+json": {
       "model_id": "fb57cbe7f9c04c54b48a2a6737a76f25",
       "version_major": 2,
       "version_minor": 0
      },
      "text/plain": [
       "  0%|          | 0/18084 [00:00<?, ?it/s]"
      ]
     },
     "metadata": {},
     "output_type": "display_data"
    },
    {
     "name": "stderr",
     "output_type": "stream",
     "text": [
      "/var/folders/5j/bz9y36mx4k391r74dcjtzzt40000gp/T/ipykernel_98870/2493536329.py:15: PerformanceWarning: DataFrame is highly fragmented.  This is usually the result of calling `frame.insert` many times, which has poor performance.  Consider joining all columns at once using pd.concat(axis=1) instead. To get a de-fragmented frame, use `newframe = frame.copy()`\n",
      "  all_pairs['complectation_names_jaccard_2'] = (\n"
     ]
    }
   ],
   "source": [
    "def _jaccard_by_tokens(c1, c2, how='inner'):\n",
    "    _tokenizer = RegexpTokenizer(r'\\w+')\n",
    "    if c1 in ('unknown', 'null') or c1 in ('unknown', 'null'):\n",
    "        return\n",
    "    \n",
    "    try:\n",
    "        return jaccard(_tokenizer.tokenize(c1.lower()), _tokenizer.tokenize(c2.lower()), how=how)\n",
    "    except:\n",
    "        return\n",
    "\n",
    "\n",
    "all_pairs['complectation_names_jaccard_1'] = (\n",
    "    all_pairs.progress_apply(lambda row: _jaccard_by_tokens(row.complectation_1, row.name_1), axis=1)\n",
    ")\n",
    "all_pairs['complectation_names_jaccard_2'] = (\n",
    "    all_pairs.progress_apply(lambda row: _jaccard_by_tokens(row.complectation_2, row.name_2), axis=1)\n",
    ")"
   ]
  },
  {
   "cell_type": "code",
   "execution_count": 69,
   "id": "c36fa7c0",
   "metadata": {},
   "outputs": [],
   "source": [
    "all_pairs_eq_isnull = all_pairs[[c for c in all_pairs if c.startswith('attribute_') and c.endswith(('_eq'))]].isnull()\n",
    "all_pairs_eq_isnull = all_pairs_eq_isnull.add_suffix('_isnull')\n",
    "all_pairs = pd.concat([all_pairs, all_pairs_eq_isnull], axis=1)"
   ]
  },
  {
   "cell_type": "code",
   "execution_count": 70,
   "id": "d21063c2",
   "metadata": {},
   "outputs": [
    {
     "data": {
      "application/vnd.jupyter.widget-view+json": {
       "model_id": "021e927975cf4867961d439f34fc765c",
       "version_major": 2,
       "version_minor": 0
      },
      "text/plain": [
       "  0%|          | 0/18084 [00:00<?, ?it/s]"
      ]
     },
     "metadata": {},
     "output_type": "display_data"
    },
    {
     "name": "stderr",
     "output_type": "stream",
     "text": [
      "<timed exec>:1: PerformanceWarning: DataFrame is highly fragmented.  This is usually the result of calling `frame.insert` many times, which has poor performance.  Consider joining all columns at once using pd.concat(axis=1) instead. To get a de-fragmented frame, use `newframe = frame.copy()`\n"
     ]
    },
    {
     "data": {
      "application/vnd.jupyter.widget-view+json": {
       "model_id": "b60ee48366fd455390b4363916bc9b14",
       "version_major": 2,
       "version_minor": 0
      },
      "text/plain": [
       "  0%|          | 0/18084 [00:00<?, ?it/s]"
      ]
     },
     "metadata": {},
     "output_type": "display_data"
    },
    {
     "name": "stderr",
     "output_type": "stream",
     "text": [
      "<timed exec>:9: PerformanceWarning: DataFrame is highly fragmented.  This is usually the result of calling `frame.insert` many times, which has poor performance.  Consider joining all columns at once using pd.concat(axis=1) instead. To get a de-fragmented frame, use `newframe = frame.copy()`\n"
     ]
    },
    {
     "data": {
      "application/vnd.jupyter.widget-view+json": {
       "model_id": "6c2f2c9184674fb2bc99c2541ae2fef3",
       "version_major": 2,
       "version_minor": 0
      },
      "text/plain": [
       "  0%|          | 0/18084 [00:00<?, ?it/s]"
      ]
     },
     "metadata": {},
     "output_type": "display_data"
    },
    {
     "name": "stderr",
     "output_type": "stream",
     "text": [
      "<timed exec>:17: PerformanceWarning: DataFrame is highly fragmented.  This is usually the result of calling `frame.insert` many times, which has poor performance.  Consider joining all columns at once using pd.concat(axis=1) instead. To get a de-fragmented frame, use `newframe = frame.copy()`\n",
      "<timed exec>:25: PerformanceWarning: DataFrame is highly fragmented.  This is usually the result of calling `frame.insert` many times, which has poor performance.  Consider joining all columns at once using pd.concat(axis=1) instead. To get a de-fragmented frame, use `newframe = frame.copy()`\n",
      "<timed exec>:29: PerformanceWarning: DataFrame is highly fragmented.  This is usually the result of calling `frame.insert` many times, which has poor performance.  Consider joining all columns at once using pd.concat(axis=1) instead. To get a de-fragmented frame, use `newframe = frame.copy()`\n",
      "<timed exec>:32: PerformanceWarning: DataFrame is highly fragmented.  This is usually the result of calling `frame.insert` many times, which has poor performance.  Consider joining all columns at once using pd.concat(axis=1) instead. To get a de-fragmented frame, use `newframe = frame.copy()`\n",
      "<timed exec>:35: PerformanceWarning: DataFrame is highly fragmented.  This is usually the result of calling `frame.insert` many times, which has poor performance.  Consider joining all columns at once using pd.concat(axis=1) instead. To get a de-fragmented frame, use `newframe = frame.copy()`\n",
      "<timed exec>:39: PerformanceWarning: DataFrame is highly fragmented.  This is usually the result of calling `frame.insert` many times, which has poor performance.  Consider joining all columns at once using pd.concat(axis=1) instead. To get a de-fragmented frame, use `newframe = frame.copy()`\n",
      "<timed exec>:42: PerformanceWarning: DataFrame is highly fragmented.  This is usually the result of calling `frame.insert` many times, which has poor performance.  Consider joining all columns at once using pd.concat(axis=1) instead. To get a de-fragmented frame, use `newframe = frame.copy()`\n",
      "<timed exec>:45: PerformanceWarning: DataFrame is highly fragmented.  This is usually the result of calling `frame.insert` many times, which has poor performance.  Consider joining all columns at once using pd.concat(axis=1) instead. To get a de-fragmented frame, use `newframe = frame.copy()`\n"
     ]
    },
    {
     "name": "stdout",
     "output_type": "stream",
     "text": [
      "CPU times: user 8.4 s, sys: 608 ms, total: 9.01 s\n",
      "Wall time: 9.05 s\n"
     ]
    }
   ],
   "source": [
    "%%time\n",
    "\n",
    "\n",
    "all_pairs['pic_dists_mat'] = all_pairs.progress_apply(\n",
    "    lambda row: cosine_distances(\n",
    "        row.all_pic_embeddings_resnet_v1_1, \n",
    "        row.all_pic_embeddings_resnet_v1_2,\n",
    "    ),\n",
    "    axis=1,\n",
    ")\n",
    "\n",
    "all_pairs['pic_dists_mat_1'] = all_pairs.progress_apply(\n",
    "    lambda row: cosine_distances(\n",
    "        row.all_pic_embeddings_resnet_v1_1, \n",
    "        row.all_pic_embeddings_resnet_v1_1,\n",
    "    ),\n",
    "    axis=1,\n",
    ")\n",
    "\n",
    "all_pairs['pic_dists_mat_2'] = all_pairs.progress_apply(\n",
    "    lambda row: cosine_distances(\n",
    "        row.all_pic_embeddings_resnet_v1_2, \n",
    "        row.all_pic_embeddings_resnet_v1_2,\n",
    "    ),\n",
    "    axis=1,\n",
    ")\n",
    "\n",
    "all_pairs['pic_dists_min_median'] = (\n",
    "    all_pairs.pic_dists_mat.apply(lambda mat: np.median(mat.min(axis=1)))\n",
    ")\n",
    "\n",
    "all_pairs['pic_dists_mean_1'] = (\n",
    "    all_pairs.pic_dists_mat_1.apply(lambda mat: mat.mean())\n",
    ")\n",
    "all_pairs['pic_dists_median_1'] = (\n",
    "    all_pairs.pic_dists_mat_1.apply(lambda mat: np.median(mat))\n",
    ")\n",
    "all_pairs['pic_dists_max_1'] = (\n",
    "    all_pairs.pic_dists_mat_1.apply(lambda mat: mat.max())\n",
    ")\n",
    "\n",
    "all_pairs['pic_dists_mean_2'] = (\n",
    "    all_pairs.pic_dists_mat_2.apply(lambda mat: mat.mean())\n",
    ")\n",
    "all_pairs['pic_dists_median_2'] = (\n",
    "    all_pairs.pic_dists_mat_2.apply(lambda mat: np.median(mat))\n",
    ")\n",
    "all_pairs['pic_dists_max_2'] = (\n",
    "    all_pairs.pic_dists_mat_2.apply(lambda mat: mat.max())\n",
    ")"
   ]
  },
  {
   "cell_type": "code",
   "execution_count": 71,
   "id": "c85c9786",
   "metadata": {},
   "outputs": [
    {
     "data": {
      "application/vnd.jupyter.widget-view+json": {
       "model_id": "91a4c73249cb4410abcf92348001301a",
       "version_major": 2,
       "version_minor": 0
      },
      "text/plain": [
       "  0%|          | 0/18084 [00:00<?, ?it/s]"
      ]
     },
     "metadata": {},
     "output_type": "display_data"
    },
    {
     "name": "stderr",
     "output_type": "stream",
     "text": [
      "/var/folders/5j/bz9y36mx4k391r74dcjtzzt40000gp/T/ipykernel_98870/2819667478.py:1: PerformanceWarning: DataFrame is highly fragmented.  This is usually the result of calling `frame.insert` many times, which has poor performance.  Consider joining all columns at once using pd.concat(axis=1) instead. To get a de-fragmented frame, use `newframe = frame.copy()`\n",
      "  all_pairs['color_parsed_jaccard_left'] = all_pairs.progress_apply(\n"
     ]
    },
    {
     "data": {
      "application/vnd.jupyter.widget-view+json": {
       "model_id": "8980065a195e413481fe81d34f2d29ce",
       "version_major": 2,
       "version_minor": 0
      },
      "text/plain": [
       "  0%|          | 0/18084 [00:00<?, ?it/s]"
      ]
     },
     "metadata": {},
     "output_type": "display_data"
    },
    {
     "name": "stderr",
     "output_type": "stream",
     "text": [
      "/var/folders/5j/bz9y36mx4k391r74dcjtzzt40000gp/T/ipykernel_98870/2819667478.py:6: PerformanceWarning: DataFrame is highly fragmented.  This is usually the result of calling `frame.insert` many times, which has poor performance.  Consider joining all columns at once using pd.concat(axis=1) instead. To get a de-fragmented frame, use `newframe = frame.copy()`\n",
      "  all_pairs['color_parsed_jaccard_right'] = all_pairs.progress_apply(\n"
     ]
    }
   ],
   "source": [
    "all_pairs['color_parsed_jaccard_left'] = all_pairs.progress_apply(\n",
    "    lambda row: process_nan(jaccard)(row.color_parsed_1, row.color_parsed_2, how='left'),\n",
    "    axis=1,\n",
    ")\n",
    "\n",
    "all_pairs['color_parsed_jaccard_right'] = all_pairs.progress_apply(\n",
    "    lambda row: process_nan(jaccard)(row.color_parsed_1, row.color_parsed_2, how='right'),\n",
    "    axis=1,\n",
    ")"
   ]
  },
  {
   "cell_type": "code",
   "execution_count": 72,
   "id": "6d398e6b",
   "metadata": {},
   "outputs": [],
   "source": [
    "def euclidean_distance(emb1, emb2):\n",
    "    return pairwise_distances(emb1.reshape(1, -1), emb2.reshape(1, -1), metric='euclidean')[0][0]"
   ]
  },
  {
   "cell_type": "code",
   "execution_count": 73,
   "id": "1241bedb",
   "metadata": {},
   "outputs": [
    {
     "name": "stderr",
     "output_type": "stream",
     "text": [
      "/var/folders/5j/bz9y36mx4k391r74dcjtzzt40000gp/T/ipykernel_98870/503837028.py:1: PerformanceWarning: DataFrame is highly fragmented.  This is usually the result of calling `frame.insert` many times, which has poor performance.  Consider joining all columns at once using pd.concat(axis=1) instead. To get a de-fragmented frame, use `newframe = frame.copy()`\n",
      "  all_pairs['main_pic_resnet_v1_euc_distance'] = (\n"
     ]
    }
   ],
   "source": [
    "all_pairs['main_pic_resnet_v1_euc_distance'] = (\n",
    "    all_pairs.apply(\n",
    "        lambda row: euclidean_distance(row.main_pic_embeddings_resnet_v1_1[0], row.main_pic_embeddings_resnet_v1_2[0]),\n",
    "        axis=1,\n",
    "    )\n",
    ")"
   ]
  },
  {
   "cell_type": "code",
   "execution_count": 74,
   "id": "b193ac91",
   "metadata": {},
   "outputs": [
    {
     "name": "stderr",
     "output_type": "stream",
     "text": [
      "/var/folders/5j/bz9y36mx4k391r74dcjtzzt40000gp/T/ipykernel_98870/604984260.py:1: PerformanceWarning: DataFrame is highly fragmented.  This is usually the result of calling `frame.insert` many times, which has poor performance.  Consider joining all columns at once using pd.concat(axis=1) instead. To get a de-fragmented frame, use `newframe = frame.copy()`\n",
      "  all_pairs['names_bert_64_euc_distance'] = (\n"
     ]
    }
   ],
   "source": [
    "all_pairs['names_bert_64_euc_distance'] = (\n",
    "    all_pairs.apply(lambda row: euclidean_distance(row.name_bert_64_1, row.name_bert_64_2), axis=1)\n",
    ")"
   ]
  },
  {
   "cell_type": "code",
   "execution_count": 75,
   "id": "c368fa04",
   "metadata": {},
   "outputs": [
    {
     "data": {
      "application/vnd.jupyter.widget-view+json": {
       "model_id": "5b81ecb8587c448b81442e5a9979a128",
       "version_major": 2,
       "version_minor": 0
      },
      "text/plain": [
       "  0%|          | 0/100 [00:00<?, ?it/s]"
      ]
     },
     "metadata": {},
     "output_type": "display_data"
    },
    {
     "data": {
      "application/vnd.jupyter.widget-view+json": {
       "model_id": "46e3438b39aa44cfb6a02da1f1f05e9d",
       "version_major": 2,
       "version_minor": 0
      },
      "text/plain": [
       "  0%|          | 0/18084 [00:00<?, ?it/s]"
      ]
     },
     "metadata": {},
     "output_type": "display_data"
    },
    {
     "name": "stderr",
     "output_type": "stream",
     "text": [
      "/var/folders/5j/bz9y36mx4k391r74dcjtzzt40000gp/T/ipykernel_98870/399564805.py:22: PerformanceWarning: DataFrame is highly fragmented.  This is usually the result of calling `frame.insert` many times, which has poor performance.  Consider joining all columns at once using pd.concat(axis=1) instead. To get a de-fragmented frame, use `newframe = frame.copy()`\n",
      "  all_pairs[f'attribute_{key}_eq_jaccard'] = (\n"
     ]
    },
    {
     "data": {
      "application/vnd.jupyter.widget-view+json": {
       "model_id": "8e96cf905ed94ed1957e3b5e01398648",
       "version_major": 2,
       "version_minor": 0
      },
      "text/plain": [
       "  0%|          | 0/18084 [00:00<?, ?it/s]"
      ]
     },
     "metadata": {},
     "output_type": "display_data"
    },
    {
     "name": "stderr",
     "output_type": "stream",
     "text": [
      "/var/folders/5j/bz9y36mx4k391r74dcjtzzt40000gp/T/ipykernel_98870/399564805.py:22: PerformanceWarning: DataFrame is highly fragmented.  This is usually the result of calling `frame.insert` many times, which has poor performance.  Consider joining all columns at once using pd.concat(axis=1) instead. To get a de-fragmented frame, use `newframe = frame.copy()`\n",
      "  all_pairs[f'attribute_{key}_eq_jaccard'] = (\n"
     ]
    },
    {
     "data": {
      "application/vnd.jupyter.widget-view+json": {
       "model_id": "215b6a3d2fba4afeb89e627a5e6aaa19",
       "version_major": 2,
       "version_minor": 0
      },
      "text/plain": [
       "  0%|          | 0/18084 [00:00<?, ?it/s]"
      ]
     },
     "metadata": {},
     "output_type": "display_data"
    },
    {
     "name": "stderr",
     "output_type": "stream",
     "text": [
      "/var/folders/5j/bz9y36mx4k391r74dcjtzzt40000gp/T/ipykernel_98870/399564805.py:22: PerformanceWarning: DataFrame is highly fragmented.  This is usually the result of calling `frame.insert` many times, which has poor performance.  Consider joining all columns at once using pd.concat(axis=1) instead. To get a de-fragmented frame, use `newframe = frame.copy()`\n",
      "  all_pairs[f'attribute_{key}_eq_jaccard'] = (\n"
     ]
    },
    {
     "data": {
      "application/vnd.jupyter.widget-view+json": {
       "model_id": "4360877ea58248c1b26d070a320fc8ee",
       "version_major": 2,
       "version_minor": 0
      },
      "text/plain": [
       "  0%|          | 0/18084 [00:00<?, ?it/s]"
      ]
     },
     "metadata": {},
     "output_type": "display_data"
    },
    {
     "name": "stderr",
     "output_type": "stream",
     "text": [
      "/var/folders/5j/bz9y36mx4k391r74dcjtzzt40000gp/T/ipykernel_98870/399564805.py:22: PerformanceWarning: DataFrame is highly fragmented.  This is usually the result of calling `frame.insert` many times, which has poor performance.  Consider joining all columns at once using pd.concat(axis=1) instead. To get a de-fragmented frame, use `newframe = frame.copy()`\n",
      "  all_pairs[f'attribute_{key}_eq_jaccard'] = (\n"
     ]
    },
    {
     "data": {
      "application/vnd.jupyter.widget-view+json": {
       "model_id": "17623271ca824d218b3f9ba406d8be01",
       "version_major": 2,
       "version_minor": 0
      },
      "text/plain": [
       "  0%|          | 0/18084 [00:00<?, ?it/s]"
      ]
     },
     "metadata": {},
     "output_type": "display_data"
    },
    {
     "name": "stderr",
     "output_type": "stream",
     "text": [
      "/var/folders/5j/bz9y36mx4k391r74dcjtzzt40000gp/T/ipykernel_98870/399564805.py:22: PerformanceWarning: DataFrame is highly fragmented.  This is usually the result of calling `frame.insert` many times, which has poor performance.  Consider joining all columns at once using pd.concat(axis=1) instead. To get a de-fragmented frame, use `newframe = frame.copy()`\n",
      "  all_pairs[f'attribute_{key}_eq_jaccard'] = (\n"
     ]
    },
    {
     "data": {
      "application/vnd.jupyter.widget-view+json": {
       "model_id": "2b388ee3db554dffbb77064a7e63a505",
       "version_major": 2,
       "version_minor": 0
      },
      "text/plain": [
       "  0%|          | 0/18084 [00:00<?, ?it/s]"
      ]
     },
     "metadata": {},
     "output_type": "display_data"
    },
    {
     "name": "stderr",
     "output_type": "stream",
     "text": [
      "/var/folders/5j/bz9y36mx4k391r74dcjtzzt40000gp/T/ipykernel_98870/399564805.py:22: PerformanceWarning: DataFrame is highly fragmented.  This is usually the result of calling `frame.insert` many times, which has poor performance.  Consider joining all columns at once using pd.concat(axis=1) instead. To get a de-fragmented frame, use `newframe = frame.copy()`\n",
      "  all_pairs[f'attribute_{key}_eq_jaccard'] = (\n"
     ]
    },
    {
     "data": {
      "application/vnd.jupyter.widget-view+json": {
       "model_id": "aa5e9ebd9f124589a2a64cd93a3347bb",
       "version_major": 2,
       "version_minor": 0
      },
      "text/plain": [
       "  0%|          | 0/18084 [00:00<?, ?it/s]"
      ]
     },
     "metadata": {},
     "output_type": "display_data"
    },
    {
     "name": "stderr",
     "output_type": "stream",
     "text": [
      "/var/folders/5j/bz9y36mx4k391r74dcjtzzt40000gp/T/ipykernel_98870/399564805.py:22: PerformanceWarning: DataFrame is highly fragmented.  This is usually the result of calling `frame.insert` many times, which has poor performance.  Consider joining all columns at once using pd.concat(axis=1) instead. To get a de-fragmented frame, use `newframe = frame.copy()`\n",
      "  all_pairs[f'attribute_{key}_eq_jaccard'] = (\n"
     ]
    },
    {
     "data": {
      "application/vnd.jupyter.widget-view+json": {
       "model_id": "9d8d94cde58845889646151b9d8d69c8",
       "version_major": 2,
       "version_minor": 0
      },
      "text/plain": [
       "  0%|          | 0/18084 [00:00<?, ?it/s]"
      ]
     },
     "metadata": {},
     "output_type": "display_data"
    },
    {
     "name": "stderr",
     "output_type": "stream",
     "text": [
      "/var/folders/5j/bz9y36mx4k391r74dcjtzzt40000gp/T/ipykernel_98870/399564805.py:22: PerformanceWarning: DataFrame is highly fragmented.  This is usually the result of calling `frame.insert` many times, which has poor performance.  Consider joining all columns at once using pd.concat(axis=1) instead. To get a de-fragmented frame, use `newframe = frame.copy()`\n",
      "  all_pairs[f'attribute_{key}_eq_jaccard'] = (\n"
     ]
    },
    {
     "data": {
      "application/vnd.jupyter.widget-view+json": {
       "model_id": "d3a6155b53654af8a8caf76c72f4cac7",
       "version_major": 2,
       "version_minor": 0
      },
      "text/plain": [
       "  0%|          | 0/18084 [00:00<?, ?it/s]"
      ]
     },
     "metadata": {},
     "output_type": "display_data"
    },
    {
     "name": "stderr",
     "output_type": "stream",
     "text": [
      "/var/folders/5j/bz9y36mx4k391r74dcjtzzt40000gp/T/ipykernel_98870/399564805.py:22: PerformanceWarning: DataFrame is highly fragmented.  This is usually the result of calling `frame.insert` many times, which has poor performance.  Consider joining all columns at once using pd.concat(axis=1) instead. To get a de-fragmented frame, use `newframe = frame.copy()`\n",
      "  all_pairs[f'attribute_{key}_eq_jaccard'] = (\n"
     ]
    },
    {
     "data": {
      "application/vnd.jupyter.widget-view+json": {
       "model_id": "b173b57d36274314b8b1105c6c6c69d4",
       "version_major": 2,
       "version_minor": 0
      },
      "text/plain": [
       "  0%|          | 0/18084 [00:00<?, ?it/s]"
      ]
     },
     "metadata": {},
     "output_type": "display_data"
    },
    {
     "name": "stderr",
     "output_type": "stream",
     "text": [
      "/var/folders/5j/bz9y36mx4k391r74dcjtzzt40000gp/T/ipykernel_98870/399564805.py:22: PerformanceWarning: DataFrame is highly fragmented.  This is usually the result of calling `frame.insert` many times, which has poor performance.  Consider joining all columns at once using pd.concat(axis=1) instead. To get a de-fragmented frame, use `newframe = frame.copy()`\n",
      "  all_pairs[f'attribute_{key}_eq_jaccard'] = (\n"
     ]
    },
    {
     "data": {
      "application/vnd.jupyter.widget-view+json": {
       "model_id": "bb588b2d1348433183f6da4c675a72b9",
       "version_major": 2,
       "version_minor": 0
      },
      "text/plain": [
       "  0%|          | 0/18084 [00:00<?, ?it/s]"
      ]
     },
     "metadata": {},
     "output_type": "display_data"
    },
    {
     "name": "stderr",
     "output_type": "stream",
     "text": [
      "/var/folders/5j/bz9y36mx4k391r74dcjtzzt40000gp/T/ipykernel_98870/399564805.py:22: PerformanceWarning: DataFrame is highly fragmented.  This is usually the result of calling `frame.insert` many times, which has poor performance.  Consider joining all columns at once using pd.concat(axis=1) instead. To get a de-fragmented frame, use `newframe = frame.copy()`\n",
      "  all_pairs[f'attribute_{key}_eq_jaccard'] = (\n"
     ]
    },
    {
     "data": {
      "application/vnd.jupyter.widget-view+json": {
       "model_id": "df271139083e47d195f539401da8f7f2",
       "version_major": 2,
       "version_minor": 0
      },
      "text/plain": [
       "  0%|          | 0/18084 [00:00<?, ?it/s]"
      ]
     },
     "metadata": {},
     "output_type": "display_data"
    },
    {
     "name": "stderr",
     "output_type": "stream",
     "text": [
      "/var/folders/5j/bz9y36mx4k391r74dcjtzzt40000gp/T/ipykernel_98870/399564805.py:22: PerformanceWarning: DataFrame is highly fragmented.  This is usually the result of calling `frame.insert` many times, which has poor performance.  Consider joining all columns at once using pd.concat(axis=1) instead. To get a de-fragmented frame, use `newframe = frame.copy()`\n",
      "  all_pairs[f'attribute_{key}_eq_jaccard'] = (\n"
     ]
    },
    {
     "data": {
      "application/vnd.jupyter.widget-view+json": {
       "model_id": "d6ae0a52420d49bb892963b65f8165b1",
       "version_major": 2,
       "version_minor": 0
      },
      "text/plain": [
       "  0%|          | 0/18084 [00:00<?, ?it/s]"
      ]
     },
     "metadata": {},
     "output_type": "display_data"
    },
    {
     "name": "stderr",
     "output_type": "stream",
     "text": [
      "/var/folders/5j/bz9y36mx4k391r74dcjtzzt40000gp/T/ipykernel_98870/399564805.py:22: PerformanceWarning: DataFrame is highly fragmented.  This is usually the result of calling `frame.insert` many times, which has poor performance.  Consider joining all columns at once using pd.concat(axis=1) instead. To get a de-fragmented frame, use `newframe = frame.copy()`\n",
      "  all_pairs[f'attribute_{key}_eq_jaccard'] = (\n"
     ]
    },
    {
     "data": {
      "application/vnd.jupyter.widget-view+json": {
       "model_id": "a945e083415f43139a1888a2c92c46fa",
       "version_major": 2,
       "version_minor": 0
      },
      "text/plain": [
       "  0%|          | 0/18084 [00:00<?, ?it/s]"
      ]
     },
     "metadata": {},
     "output_type": "display_data"
    },
    {
     "name": "stderr",
     "output_type": "stream",
     "text": [
      "/var/folders/5j/bz9y36mx4k391r74dcjtzzt40000gp/T/ipykernel_98870/399564805.py:22: PerformanceWarning: DataFrame is highly fragmented.  This is usually the result of calling `frame.insert` many times, which has poor performance.  Consider joining all columns at once using pd.concat(axis=1) instead. To get a de-fragmented frame, use `newframe = frame.copy()`\n",
      "  all_pairs[f'attribute_{key}_eq_jaccard'] = (\n"
     ]
    },
    {
     "data": {
      "application/vnd.jupyter.widget-view+json": {
       "model_id": "5fe11be19b2a4f1b800d212fedae7b36",
       "version_major": 2,
       "version_minor": 0
      },
      "text/plain": [
       "  0%|          | 0/18084 [00:00<?, ?it/s]"
      ]
     },
     "metadata": {},
     "output_type": "display_data"
    },
    {
     "name": "stderr",
     "output_type": "stream",
     "text": [
      "/var/folders/5j/bz9y36mx4k391r74dcjtzzt40000gp/T/ipykernel_98870/399564805.py:22: PerformanceWarning: DataFrame is highly fragmented.  This is usually the result of calling `frame.insert` many times, which has poor performance.  Consider joining all columns at once using pd.concat(axis=1) instead. To get a de-fragmented frame, use `newframe = frame.copy()`\n",
      "  all_pairs[f'attribute_{key}_eq_jaccard'] = (\n"
     ]
    },
    {
     "data": {
      "application/vnd.jupyter.widget-view+json": {
       "model_id": "6f45674c283d41a8903bba2a548a605b",
       "version_major": 2,
       "version_minor": 0
      },
      "text/plain": [
       "  0%|          | 0/18084 [00:00<?, ?it/s]"
      ]
     },
     "metadata": {},
     "output_type": "display_data"
    },
    {
     "name": "stderr",
     "output_type": "stream",
     "text": [
      "/var/folders/5j/bz9y36mx4k391r74dcjtzzt40000gp/T/ipykernel_98870/399564805.py:22: PerformanceWarning: DataFrame is highly fragmented.  This is usually the result of calling `frame.insert` many times, which has poor performance.  Consider joining all columns at once using pd.concat(axis=1) instead. To get a de-fragmented frame, use `newframe = frame.copy()`\n",
      "  all_pairs[f'attribute_{key}_eq_jaccard'] = (\n"
     ]
    },
    {
     "data": {
      "application/vnd.jupyter.widget-view+json": {
       "model_id": "7f584d1ff5f842ae8f44b6965e337ae8",
       "version_major": 2,
       "version_minor": 0
      },
      "text/plain": [
       "  0%|          | 0/18084 [00:00<?, ?it/s]"
      ]
     },
     "metadata": {},
     "output_type": "display_data"
    },
    {
     "name": "stderr",
     "output_type": "stream",
     "text": [
      "/var/folders/5j/bz9y36mx4k391r74dcjtzzt40000gp/T/ipykernel_98870/399564805.py:22: PerformanceWarning: DataFrame is highly fragmented.  This is usually the result of calling `frame.insert` many times, which has poor performance.  Consider joining all columns at once using pd.concat(axis=1) instead. To get a de-fragmented frame, use `newframe = frame.copy()`\n",
      "  all_pairs[f'attribute_{key}_eq_jaccard'] = (\n"
     ]
    },
    {
     "data": {
      "application/vnd.jupyter.widget-view+json": {
       "model_id": "62e9b9cd662145ebb417b52d3feb9728",
       "version_major": 2,
       "version_minor": 0
      },
      "text/plain": [
       "  0%|          | 0/18084 [00:00<?, ?it/s]"
      ]
     },
     "metadata": {},
     "output_type": "display_data"
    },
    {
     "name": "stderr",
     "output_type": "stream",
     "text": [
      "/var/folders/5j/bz9y36mx4k391r74dcjtzzt40000gp/T/ipykernel_98870/399564805.py:22: PerformanceWarning: DataFrame is highly fragmented.  This is usually the result of calling `frame.insert` many times, which has poor performance.  Consider joining all columns at once using pd.concat(axis=1) instead. To get a de-fragmented frame, use `newframe = frame.copy()`\n",
      "  all_pairs[f'attribute_{key}_eq_jaccard'] = (\n"
     ]
    },
    {
     "data": {
      "application/vnd.jupyter.widget-view+json": {
       "model_id": "f38a23c09ec64900b9bf1d96bed31e6c",
       "version_major": 2,
       "version_minor": 0
      },
      "text/plain": [
       "  0%|          | 0/18084 [00:00<?, ?it/s]"
      ]
     },
     "metadata": {},
     "output_type": "display_data"
    },
    {
     "name": "stderr",
     "output_type": "stream",
     "text": [
      "/var/folders/5j/bz9y36mx4k391r74dcjtzzt40000gp/T/ipykernel_98870/399564805.py:22: PerformanceWarning: DataFrame is highly fragmented.  This is usually the result of calling `frame.insert` many times, which has poor performance.  Consider joining all columns at once using pd.concat(axis=1) instead. To get a de-fragmented frame, use `newframe = frame.copy()`\n",
      "  all_pairs[f'attribute_{key}_eq_jaccard'] = (\n"
     ]
    },
    {
     "data": {
      "application/vnd.jupyter.widget-view+json": {
       "model_id": "6d7fea05f6f044eba445c767c4383cde",
       "version_major": 2,
       "version_minor": 0
      },
      "text/plain": [
       "  0%|          | 0/18084 [00:00<?, ?it/s]"
      ]
     },
     "metadata": {},
     "output_type": "display_data"
    },
    {
     "name": "stderr",
     "output_type": "stream",
     "text": [
      "/var/folders/5j/bz9y36mx4k391r74dcjtzzt40000gp/T/ipykernel_98870/399564805.py:22: PerformanceWarning: DataFrame is highly fragmented.  This is usually the result of calling `frame.insert` many times, which has poor performance.  Consider joining all columns at once using pd.concat(axis=1) instead. To get a de-fragmented frame, use `newframe = frame.copy()`\n",
      "  all_pairs[f'attribute_{key}_eq_jaccard'] = (\n"
     ]
    },
    {
     "data": {
      "application/vnd.jupyter.widget-view+json": {
       "model_id": "5e18cd077456420f9b30f9b279e9d66e",
       "version_major": 2,
       "version_minor": 0
      },
      "text/plain": [
       "  0%|          | 0/18084 [00:00<?, ?it/s]"
      ]
     },
     "metadata": {},
     "output_type": "display_data"
    },
    {
     "name": "stderr",
     "output_type": "stream",
     "text": [
      "/var/folders/5j/bz9y36mx4k391r74dcjtzzt40000gp/T/ipykernel_98870/399564805.py:22: PerformanceWarning: DataFrame is highly fragmented.  This is usually the result of calling `frame.insert` many times, which has poor performance.  Consider joining all columns at once using pd.concat(axis=1) instead. To get a de-fragmented frame, use `newframe = frame.copy()`\n",
      "  all_pairs[f'attribute_{key}_eq_jaccard'] = (\n"
     ]
    },
    {
     "data": {
      "application/vnd.jupyter.widget-view+json": {
       "model_id": "b09b4a1de94e4573958f98041330ed53",
       "version_major": 2,
       "version_minor": 0
      },
      "text/plain": [
       "  0%|          | 0/18084 [00:00<?, ?it/s]"
      ]
     },
     "metadata": {},
     "output_type": "display_data"
    },
    {
     "name": "stderr",
     "output_type": "stream",
     "text": [
      "/var/folders/5j/bz9y36mx4k391r74dcjtzzt40000gp/T/ipykernel_98870/399564805.py:22: PerformanceWarning: DataFrame is highly fragmented.  This is usually the result of calling `frame.insert` many times, which has poor performance.  Consider joining all columns at once using pd.concat(axis=1) instead. To get a de-fragmented frame, use `newframe = frame.copy()`\n",
      "  all_pairs[f'attribute_{key}_eq_jaccard'] = (\n"
     ]
    },
    {
     "data": {
      "application/vnd.jupyter.widget-view+json": {
       "model_id": "a91a95d1001844378b80aeca6df51d3c",
       "version_major": 2,
       "version_minor": 0
      },
      "text/plain": [
       "  0%|          | 0/18084 [00:00<?, ?it/s]"
      ]
     },
     "metadata": {},
     "output_type": "display_data"
    },
    {
     "name": "stderr",
     "output_type": "stream",
     "text": [
      "/var/folders/5j/bz9y36mx4k391r74dcjtzzt40000gp/T/ipykernel_98870/399564805.py:22: PerformanceWarning: DataFrame is highly fragmented.  This is usually the result of calling `frame.insert` many times, which has poor performance.  Consider joining all columns at once using pd.concat(axis=1) instead. To get a de-fragmented frame, use `newframe = frame.copy()`\n",
      "  all_pairs[f'attribute_{key}_eq_jaccard'] = (\n"
     ]
    },
    {
     "data": {
      "application/vnd.jupyter.widget-view+json": {
       "model_id": "9c5601404b664d7fa399ff980979e10a",
       "version_major": 2,
       "version_minor": 0
      },
      "text/plain": [
       "  0%|          | 0/18084 [00:00<?, ?it/s]"
      ]
     },
     "metadata": {},
     "output_type": "display_data"
    },
    {
     "name": "stderr",
     "output_type": "stream",
     "text": [
      "/var/folders/5j/bz9y36mx4k391r74dcjtzzt40000gp/T/ipykernel_98870/399564805.py:22: PerformanceWarning: DataFrame is highly fragmented.  This is usually the result of calling `frame.insert` many times, which has poor performance.  Consider joining all columns at once using pd.concat(axis=1) instead. To get a de-fragmented frame, use `newframe = frame.copy()`\n",
      "  all_pairs[f'attribute_{key}_eq_jaccard'] = (\n"
     ]
    },
    {
     "data": {
      "application/vnd.jupyter.widget-view+json": {
       "model_id": "2885cd5e9d7b406db1c1a79970c1ce7f",
       "version_major": 2,
       "version_minor": 0
      },
      "text/plain": [
       "  0%|          | 0/18084 [00:00<?, ?it/s]"
      ]
     },
     "metadata": {},
     "output_type": "display_data"
    },
    {
     "name": "stderr",
     "output_type": "stream",
     "text": [
      "/var/folders/5j/bz9y36mx4k391r74dcjtzzt40000gp/T/ipykernel_98870/399564805.py:22: PerformanceWarning: DataFrame is highly fragmented.  This is usually the result of calling `frame.insert` many times, which has poor performance.  Consider joining all columns at once using pd.concat(axis=1) instead. To get a de-fragmented frame, use `newframe = frame.copy()`\n",
      "  all_pairs[f'attribute_{key}_eq_jaccard'] = (\n"
     ]
    },
    {
     "data": {
      "application/vnd.jupyter.widget-view+json": {
       "model_id": "75ee8538873c4ebc93a54c5564f7d35b",
       "version_major": 2,
       "version_minor": 0
      },
      "text/plain": [
       "  0%|          | 0/18084 [00:00<?, ?it/s]"
      ]
     },
     "metadata": {},
     "output_type": "display_data"
    },
    {
     "name": "stderr",
     "output_type": "stream",
     "text": [
      "/var/folders/5j/bz9y36mx4k391r74dcjtzzt40000gp/T/ipykernel_98870/399564805.py:22: PerformanceWarning: DataFrame is highly fragmented.  This is usually the result of calling `frame.insert` many times, which has poor performance.  Consider joining all columns at once using pd.concat(axis=1) instead. To get a de-fragmented frame, use `newframe = frame.copy()`\n",
      "  all_pairs[f'attribute_{key}_eq_jaccard'] = (\n"
     ]
    },
    {
     "data": {
      "application/vnd.jupyter.widget-view+json": {
       "model_id": "5c6caf7958a44f61ad6c3e583fc2cbb5",
       "version_major": 2,
       "version_minor": 0
      },
      "text/plain": [
       "  0%|          | 0/18084 [00:00<?, ?it/s]"
      ]
     },
     "metadata": {},
     "output_type": "display_data"
    },
    {
     "name": "stderr",
     "output_type": "stream",
     "text": [
      "/var/folders/5j/bz9y36mx4k391r74dcjtzzt40000gp/T/ipykernel_98870/399564805.py:22: PerformanceWarning: DataFrame is highly fragmented.  This is usually the result of calling `frame.insert` many times, which has poor performance.  Consider joining all columns at once using pd.concat(axis=1) instead. To get a de-fragmented frame, use `newframe = frame.copy()`\n",
      "  all_pairs[f'attribute_{key}_eq_jaccard'] = (\n"
     ]
    },
    {
     "data": {
      "application/vnd.jupyter.widget-view+json": {
       "model_id": "edb5c5d6dd8f4a91bf7bdc76ceb71752",
       "version_major": 2,
       "version_minor": 0
      },
      "text/plain": [
       "  0%|          | 0/18084 [00:00<?, ?it/s]"
      ]
     },
     "metadata": {},
     "output_type": "display_data"
    },
    {
     "name": "stderr",
     "output_type": "stream",
     "text": [
      "/var/folders/5j/bz9y36mx4k391r74dcjtzzt40000gp/T/ipykernel_98870/399564805.py:22: PerformanceWarning: DataFrame is highly fragmented.  This is usually the result of calling `frame.insert` many times, which has poor performance.  Consider joining all columns at once using pd.concat(axis=1) instead. To get a de-fragmented frame, use `newframe = frame.copy()`\n",
      "  all_pairs[f'attribute_{key}_eq_jaccard'] = (\n"
     ]
    },
    {
     "data": {
      "application/vnd.jupyter.widget-view+json": {
       "model_id": "d6f8cdb2756a448ba8a0a8b6e32da252",
       "version_major": 2,
       "version_minor": 0
      },
      "text/plain": [
       "  0%|          | 0/18084 [00:00<?, ?it/s]"
      ]
     },
     "metadata": {},
     "output_type": "display_data"
    },
    {
     "name": "stderr",
     "output_type": "stream",
     "text": [
      "/var/folders/5j/bz9y36mx4k391r74dcjtzzt40000gp/T/ipykernel_98870/399564805.py:22: PerformanceWarning: DataFrame is highly fragmented.  This is usually the result of calling `frame.insert` many times, which has poor performance.  Consider joining all columns at once using pd.concat(axis=1) instead. To get a de-fragmented frame, use `newframe = frame.copy()`\n",
      "  all_pairs[f'attribute_{key}_eq_jaccard'] = (\n"
     ]
    },
    {
     "data": {
      "application/vnd.jupyter.widget-view+json": {
       "model_id": "b602a565c43f4a63bb7e344bbda79b5c",
       "version_major": 2,
       "version_minor": 0
      },
      "text/plain": [
       "  0%|          | 0/18084 [00:00<?, ?it/s]"
      ]
     },
     "metadata": {},
     "output_type": "display_data"
    },
    {
     "name": "stderr",
     "output_type": "stream",
     "text": [
      "/var/folders/5j/bz9y36mx4k391r74dcjtzzt40000gp/T/ipykernel_98870/399564805.py:22: PerformanceWarning: DataFrame is highly fragmented.  This is usually the result of calling `frame.insert` many times, which has poor performance.  Consider joining all columns at once using pd.concat(axis=1) instead. To get a de-fragmented frame, use `newframe = frame.copy()`\n",
      "  all_pairs[f'attribute_{key}_eq_jaccard'] = (\n"
     ]
    },
    {
     "data": {
      "application/vnd.jupyter.widget-view+json": {
       "model_id": "840bcaca031540b7904f647cbaf52b34",
       "version_major": 2,
       "version_minor": 0
      },
      "text/plain": [
       "  0%|          | 0/18084 [00:00<?, ?it/s]"
      ]
     },
     "metadata": {},
     "output_type": "display_data"
    },
    {
     "name": "stderr",
     "output_type": "stream",
     "text": [
      "/var/folders/5j/bz9y36mx4k391r74dcjtzzt40000gp/T/ipykernel_98870/399564805.py:22: PerformanceWarning: DataFrame is highly fragmented.  This is usually the result of calling `frame.insert` many times, which has poor performance.  Consider joining all columns at once using pd.concat(axis=1) instead. To get a de-fragmented frame, use `newframe = frame.copy()`\n",
      "  all_pairs[f'attribute_{key}_eq_jaccard'] = (\n"
     ]
    },
    {
     "data": {
      "application/vnd.jupyter.widget-view+json": {
       "model_id": "b2a1de70693d41c6b19cfb57b773d78f",
       "version_major": 2,
       "version_minor": 0
      },
      "text/plain": [
       "  0%|          | 0/18084 [00:00<?, ?it/s]"
      ]
     },
     "metadata": {},
     "output_type": "display_data"
    },
    {
     "name": "stderr",
     "output_type": "stream",
     "text": [
      "/var/folders/5j/bz9y36mx4k391r74dcjtzzt40000gp/T/ipykernel_98870/399564805.py:22: PerformanceWarning: DataFrame is highly fragmented.  This is usually the result of calling `frame.insert` many times, which has poor performance.  Consider joining all columns at once using pd.concat(axis=1) instead. To get a de-fragmented frame, use `newframe = frame.copy()`\n",
      "  all_pairs[f'attribute_{key}_eq_jaccard'] = (\n"
     ]
    },
    {
     "data": {
      "application/vnd.jupyter.widget-view+json": {
       "model_id": "0fdb401ad85e40bf8a0a35d35afacbba",
       "version_major": 2,
       "version_minor": 0
      },
      "text/plain": [
       "  0%|          | 0/18084 [00:00<?, ?it/s]"
      ]
     },
     "metadata": {},
     "output_type": "display_data"
    },
    {
     "name": "stderr",
     "output_type": "stream",
     "text": [
      "/var/folders/5j/bz9y36mx4k391r74dcjtzzt40000gp/T/ipykernel_98870/399564805.py:22: PerformanceWarning: DataFrame is highly fragmented.  This is usually the result of calling `frame.insert` many times, which has poor performance.  Consider joining all columns at once using pd.concat(axis=1) instead. To get a de-fragmented frame, use `newframe = frame.copy()`\n",
      "  all_pairs[f'attribute_{key}_eq_jaccard'] = (\n"
     ]
    },
    {
     "data": {
      "application/vnd.jupyter.widget-view+json": {
       "model_id": "5fdeca67dbdd4c5a90a25c06a28c35f6",
       "version_major": 2,
       "version_minor": 0
      },
      "text/plain": [
       "  0%|          | 0/18084 [00:00<?, ?it/s]"
      ]
     },
     "metadata": {},
     "output_type": "display_data"
    },
    {
     "name": "stderr",
     "output_type": "stream",
     "text": [
      "/var/folders/5j/bz9y36mx4k391r74dcjtzzt40000gp/T/ipykernel_98870/399564805.py:22: PerformanceWarning: DataFrame is highly fragmented.  This is usually the result of calling `frame.insert` many times, which has poor performance.  Consider joining all columns at once using pd.concat(axis=1) instead. To get a de-fragmented frame, use `newframe = frame.copy()`\n",
      "  all_pairs[f'attribute_{key}_eq_jaccard'] = (\n"
     ]
    },
    {
     "data": {
      "application/vnd.jupyter.widget-view+json": {
       "model_id": "ab64a3ca7c4b4ea895bd234a451112ef",
       "version_major": 2,
       "version_minor": 0
      },
      "text/plain": [
       "  0%|          | 0/18084 [00:00<?, ?it/s]"
      ]
     },
     "metadata": {},
     "output_type": "display_data"
    },
    {
     "name": "stderr",
     "output_type": "stream",
     "text": [
      "/var/folders/5j/bz9y36mx4k391r74dcjtzzt40000gp/T/ipykernel_98870/399564805.py:22: PerformanceWarning: DataFrame is highly fragmented.  This is usually the result of calling `frame.insert` many times, which has poor performance.  Consider joining all columns at once using pd.concat(axis=1) instead. To get a de-fragmented frame, use `newframe = frame.copy()`\n",
      "  all_pairs[f'attribute_{key}_eq_jaccard'] = (\n"
     ]
    },
    {
     "data": {
      "application/vnd.jupyter.widget-view+json": {
       "model_id": "11571a74ebf6409a99a9970695728ee9",
       "version_major": 2,
       "version_minor": 0
      },
      "text/plain": [
       "  0%|          | 0/18084 [00:00<?, ?it/s]"
      ]
     },
     "metadata": {},
     "output_type": "display_data"
    },
    {
     "name": "stderr",
     "output_type": "stream",
     "text": [
      "/var/folders/5j/bz9y36mx4k391r74dcjtzzt40000gp/T/ipykernel_98870/399564805.py:22: PerformanceWarning: DataFrame is highly fragmented.  This is usually the result of calling `frame.insert` many times, which has poor performance.  Consider joining all columns at once using pd.concat(axis=1) instead. To get a de-fragmented frame, use `newframe = frame.copy()`\n",
      "  all_pairs[f'attribute_{key}_eq_jaccard'] = (\n"
     ]
    },
    {
     "data": {
      "application/vnd.jupyter.widget-view+json": {
       "model_id": "78d0d9ad44514f4ba018096ba370e63d",
       "version_major": 2,
       "version_minor": 0
      },
      "text/plain": [
       "  0%|          | 0/18084 [00:00<?, ?it/s]"
      ]
     },
     "metadata": {},
     "output_type": "display_data"
    },
    {
     "name": "stderr",
     "output_type": "stream",
     "text": [
      "/var/folders/5j/bz9y36mx4k391r74dcjtzzt40000gp/T/ipykernel_98870/399564805.py:22: PerformanceWarning: DataFrame is highly fragmented.  This is usually the result of calling `frame.insert` many times, which has poor performance.  Consider joining all columns at once using pd.concat(axis=1) instead. To get a de-fragmented frame, use `newframe = frame.copy()`\n",
      "  all_pairs[f'attribute_{key}_eq_jaccard'] = (\n"
     ]
    },
    {
     "data": {
      "application/vnd.jupyter.widget-view+json": {
       "model_id": "93db8ca890a54a9fa797fc14c69a5ed7",
       "version_major": 2,
       "version_minor": 0
      },
      "text/plain": [
       "  0%|          | 0/18084 [00:00<?, ?it/s]"
      ]
     },
     "metadata": {},
     "output_type": "display_data"
    },
    {
     "name": "stderr",
     "output_type": "stream",
     "text": [
      "/var/folders/5j/bz9y36mx4k391r74dcjtzzt40000gp/T/ipykernel_98870/399564805.py:22: PerformanceWarning: DataFrame is highly fragmented.  This is usually the result of calling `frame.insert` many times, which has poor performance.  Consider joining all columns at once using pd.concat(axis=1) instead. To get a de-fragmented frame, use `newframe = frame.copy()`\n",
      "  all_pairs[f'attribute_{key}_eq_jaccard'] = (\n"
     ]
    },
    {
     "data": {
      "application/vnd.jupyter.widget-view+json": {
       "model_id": "640a1aa78fa94eea8db63b13eee05f5c",
       "version_major": 2,
       "version_minor": 0
      },
      "text/plain": [
       "  0%|          | 0/18084 [00:00<?, ?it/s]"
      ]
     },
     "metadata": {},
     "output_type": "display_data"
    },
    {
     "name": "stderr",
     "output_type": "stream",
     "text": [
      "/var/folders/5j/bz9y36mx4k391r74dcjtzzt40000gp/T/ipykernel_98870/399564805.py:22: PerformanceWarning: DataFrame is highly fragmented.  This is usually the result of calling `frame.insert` many times, which has poor performance.  Consider joining all columns at once using pd.concat(axis=1) instead. To get a de-fragmented frame, use `newframe = frame.copy()`\n",
      "  all_pairs[f'attribute_{key}_eq_jaccard'] = (\n"
     ]
    },
    {
     "data": {
      "application/vnd.jupyter.widget-view+json": {
       "model_id": "a06d0150721141709586db28dc5e6f3b",
       "version_major": 2,
       "version_minor": 0
      },
      "text/plain": [
       "  0%|          | 0/18084 [00:00<?, ?it/s]"
      ]
     },
     "metadata": {},
     "output_type": "display_data"
    },
    {
     "name": "stderr",
     "output_type": "stream",
     "text": [
      "/var/folders/5j/bz9y36mx4k391r74dcjtzzt40000gp/T/ipykernel_98870/399564805.py:22: PerformanceWarning: DataFrame is highly fragmented.  This is usually the result of calling `frame.insert` many times, which has poor performance.  Consider joining all columns at once using pd.concat(axis=1) instead. To get a de-fragmented frame, use `newframe = frame.copy()`\n",
      "  all_pairs[f'attribute_{key}_eq_jaccard'] = (\n"
     ]
    },
    {
     "data": {
      "application/vnd.jupyter.widget-view+json": {
       "model_id": "498799b587fc458a930095ff5c1fc95c",
       "version_major": 2,
       "version_minor": 0
      },
      "text/plain": [
       "  0%|          | 0/18084 [00:00<?, ?it/s]"
      ]
     },
     "metadata": {},
     "output_type": "display_data"
    },
    {
     "name": "stderr",
     "output_type": "stream",
     "text": [
      "/var/folders/5j/bz9y36mx4k391r74dcjtzzt40000gp/T/ipykernel_98870/399564805.py:22: PerformanceWarning: DataFrame is highly fragmented.  This is usually the result of calling `frame.insert` many times, which has poor performance.  Consider joining all columns at once using pd.concat(axis=1) instead. To get a de-fragmented frame, use `newframe = frame.copy()`\n",
      "  all_pairs[f'attribute_{key}_eq_jaccard'] = (\n"
     ]
    },
    {
     "data": {
      "application/vnd.jupyter.widget-view+json": {
       "model_id": "19b5a85a36a94276b25ce0bc29beea09",
       "version_major": 2,
       "version_minor": 0
      },
      "text/plain": [
       "  0%|          | 0/18084 [00:00<?, ?it/s]"
      ]
     },
     "metadata": {},
     "output_type": "display_data"
    },
    {
     "name": "stderr",
     "output_type": "stream",
     "text": [
      "/var/folders/5j/bz9y36mx4k391r74dcjtzzt40000gp/T/ipykernel_98870/399564805.py:22: PerformanceWarning: DataFrame is highly fragmented.  This is usually the result of calling `frame.insert` many times, which has poor performance.  Consider joining all columns at once using pd.concat(axis=1) instead. To get a de-fragmented frame, use `newframe = frame.copy()`\n",
      "  all_pairs[f'attribute_{key}_eq_jaccard'] = (\n"
     ]
    },
    {
     "data": {
      "application/vnd.jupyter.widget-view+json": {
       "model_id": "6282724d05f24f219adbcf78aff4e84b",
       "version_major": 2,
       "version_minor": 0
      },
      "text/plain": [
       "  0%|          | 0/18084 [00:00<?, ?it/s]"
      ]
     },
     "metadata": {},
     "output_type": "display_data"
    },
    {
     "name": "stderr",
     "output_type": "stream",
     "text": [
      "/var/folders/5j/bz9y36mx4k391r74dcjtzzt40000gp/T/ipykernel_98870/399564805.py:22: PerformanceWarning: DataFrame is highly fragmented.  This is usually the result of calling `frame.insert` many times, which has poor performance.  Consider joining all columns at once using pd.concat(axis=1) instead. To get a de-fragmented frame, use `newframe = frame.copy()`\n",
      "  all_pairs[f'attribute_{key}_eq_jaccard'] = (\n"
     ]
    },
    {
     "data": {
      "application/vnd.jupyter.widget-view+json": {
       "model_id": "ecbc891a9a1d4c588eea0f71220ce24a",
       "version_major": 2,
       "version_minor": 0
      },
      "text/plain": [
       "  0%|          | 0/18084 [00:00<?, ?it/s]"
      ]
     },
     "metadata": {},
     "output_type": "display_data"
    },
    {
     "name": "stderr",
     "output_type": "stream",
     "text": [
      "/var/folders/5j/bz9y36mx4k391r74dcjtzzt40000gp/T/ipykernel_98870/399564805.py:22: PerformanceWarning: DataFrame is highly fragmented.  This is usually the result of calling `frame.insert` many times, which has poor performance.  Consider joining all columns at once using pd.concat(axis=1) instead. To get a de-fragmented frame, use `newframe = frame.copy()`\n",
      "  all_pairs[f'attribute_{key}_eq_jaccard'] = (\n"
     ]
    },
    {
     "data": {
      "application/vnd.jupyter.widget-view+json": {
       "model_id": "823a510f34764f80bfe55cf9da614122",
       "version_major": 2,
       "version_minor": 0
      },
      "text/plain": [
       "  0%|          | 0/18084 [00:00<?, ?it/s]"
      ]
     },
     "metadata": {},
     "output_type": "display_data"
    },
    {
     "name": "stderr",
     "output_type": "stream",
     "text": [
      "/var/folders/5j/bz9y36mx4k391r74dcjtzzt40000gp/T/ipykernel_98870/399564805.py:22: PerformanceWarning: DataFrame is highly fragmented.  This is usually the result of calling `frame.insert` many times, which has poor performance.  Consider joining all columns at once using pd.concat(axis=1) instead. To get a de-fragmented frame, use `newframe = frame.copy()`\n",
      "  all_pairs[f'attribute_{key}_eq_jaccard'] = (\n"
     ]
    },
    {
     "data": {
      "application/vnd.jupyter.widget-view+json": {
       "model_id": "75dbeab0c48641b68212adaef45a60ae",
       "version_major": 2,
       "version_minor": 0
      },
      "text/plain": [
       "  0%|          | 0/18084 [00:00<?, ?it/s]"
      ]
     },
     "metadata": {},
     "output_type": "display_data"
    },
    {
     "name": "stderr",
     "output_type": "stream",
     "text": [
      "/var/folders/5j/bz9y36mx4k391r74dcjtzzt40000gp/T/ipykernel_98870/399564805.py:22: PerformanceWarning: DataFrame is highly fragmented.  This is usually the result of calling `frame.insert` many times, which has poor performance.  Consider joining all columns at once using pd.concat(axis=1) instead. To get a de-fragmented frame, use `newframe = frame.copy()`\n",
      "  all_pairs[f'attribute_{key}_eq_jaccard'] = (\n"
     ]
    },
    {
     "data": {
      "application/vnd.jupyter.widget-view+json": {
       "model_id": "7c95d3ce93fc43479fc48bbcada010f5",
       "version_major": 2,
       "version_minor": 0
      },
      "text/plain": [
       "  0%|          | 0/18084 [00:00<?, ?it/s]"
      ]
     },
     "metadata": {},
     "output_type": "display_data"
    },
    {
     "name": "stderr",
     "output_type": "stream",
     "text": [
      "/var/folders/5j/bz9y36mx4k391r74dcjtzzt40000gp/T/ipykernel_98870/399564805.py:22: PerformanceWarning: DataFrame is highly fragmented.  This is usually the result of calling `frame.insert` many times, which has poor performance.  Consider joining all columns at once using pd.concat(axis=1) instead. To get a de-fragmented frame, use `newframe = frame.copy()`\n",
      "  all_pairs[f'attribute_{key}_eq_jaccard'] = (\n"
     ]
    },
    {
     "data": {
      "application/vnd.jupyter.widget-view+json": {
       "model_id": "fbecbdc460ac4e30aafd7bc20cffa01a",
       "version_major": 2,
       "version_minor": 0
      },
      "text/plain": [
       "  0%|          | 0/18084 [00:00<?, ?it/s]"
      ]
     },
     "metadata": {},
     "output_type": "display_data"
    },
    {
     "name": "stderr",
     "output_type": "stream",
     "text": [
      "/var/folders/5j/bz9y36mx4k391r74dcjtzzt40000gp/T/ipykernel_98870/399564805.py:22: PerformanceWarning: DataFrame is highly fragmented.  This is usually the result of calling `frame.insert` many times, which has poor performance.  Consider joining all columns at once using pd.concat(axis=1) instead. To get a de-fragmented frame, use `newframe = frame.copy()`\n",
      "  all_pairs[f'attribute_{key}_eq_jaccard'] = (\n"
     ]
    },
    {
     "data": {
      "application/vnd.jupyter.widget-view+json": {
       "model_id": "8432049221dd4885b29aef4ee1fa1c0f",
       "version_major": 2,
       "version_minor": 0
      },
      "text/plain": [
       "  0%|          | 0/18084 [00:00<?, ?it/s]"
      ]
     },
     "metadata": {},
     "output_type": "display_data"
    },
    {
     "name": "stderr",
     "output_type": "stream",
     "text": [
      "/var/folders/5j/bz9y36mx4k391r74dcjtzzt40000gp/T/ipykernel_98870/399564805.py:22: PerformanceWarning: DataFrame is highly fragmented.  This is usually the result of calling `frame.insert` many times, which has poor performance.  Consider joining all columns at once using pd.concat(axis=1) instead. To get a de-fragmented frame, use `newframe = frame.copy()`\n",
      "  all_pairs[f'attribute_{key}_eq_jaccard'] = (\n"
     ]
    },
    {
     "data": {
      "application/vnd.jupyter.widget-view+json": {
       "model_id": "560dcade88b7454fbb1ba258f727c6fc",
       "version_major": 2,
       "version_minor": 0
      },
      "text/plain": [
       "  0%|          | 0/18084 [00:00<?, ?it/s]"
      ]
     },
     "metadata": {},
     "output_type": "display_data"
    },
    {
     "name": "stderr",
     "output_type": "stream",
     "text": [
      "/var/folders/5j/bz9y36mx4k391r74dcjtzzt40000gp/T/ipykernel_98870/399564805.py:22: PerformanceWarning: DataFrame is highly fragmented.  This is usually the result of calling `frame.insert` many times, which has poor performance.  Consider joining all columns at once using pd.concat(axis=1) instead. To get a de-fragmented frame, use `newframe = frame.copy()`\n",
      "  all_pairs[f'attribute_{key}_eq_jaccard'] = (\n"
     ]
    },
    {
     "data": {
      "application/vnd.jupyter.widget-view+json": {
       "model_id": "97c57fde51b94fb19e7ca68505b8b423",
       "version_major": 2,
       "version_minor": 0
      },
      "text/plain": [
       "  0%|          | 0/18084 [00:00<?, ?it/s]"
      ]
     },
     "metadata": {},
     "output_type": "display_data"
    },
    {
     "name": "stderr",
     "output_type": "stream",
     "text": [
      "/var/folders/5j/bz9y36mx4k391r74dcjtzzt40000gp/T/ipykernel_98870/399564805.py:22: PerformanceWarning: DataFrame is highly fragmented.  This is usually the result of calling `frame.insert` many times, which has poor performance.  Consider joining all columns at once using pd.concat(axis=1) instead. To get a de-fragmented frame, use `newframe = frame.copy()`\n",
      "  all_pairs[f'attribute_{key}_eq_jaccard'] = (\n"
     ]
    },
    {
     "data": {
      "application/vnd.jupyter.widget-view+json": {
       "model_id": "0dbce03a8c24423bb4216fda2f4b09d9",
       "version_major": 2,
       "version_minor": 0
      },
      "text/plain": [
       "  0%|          | 0/18084 [00:00<?, ?it/s]"
      ]
     },
     "metadata": {},
     "output_type": "display_data"
    },
    {
     "name": "stderr",
     "output_type": "stream",
     "text": [
      "/var/folders/5j/bz9y36mx4k391r74dcjtzzt40000gp/T/ipykernel_98870/399564805.py:22: PerformanceWarning: DataFrame is highly fragmented.  This is usually the result of calling `frame.insert` many times, which has poor performance.  Consider joining all columns at once using pd.concat(axis=1) instead. To get a de-fragmented frame, use `newframe = frame.copy()`\n",
      "  all_pairs[f'attribute_{key}_eq_jaccard'] = (\n"
     ]
    },
    {
     "data": {
      "application/vnd.jupyter.widget-view+json": {
       "model_id": "1bcbc00145cf485aa3a4c3732609d620",
       "version_major": 2,
       "version_minor": 0
      },
      "text/plain": [
       "  0%|          | 0/18084 [00:00<?, ?it/s]"
      ]
     },
     "metadata": {},
     "output_type": "display_data"
    },
    {
     "name": "stderr",
     "output_type": "stream",
     "text": [
      "/var/folders/5j/bz9y36mx4k391r74dcjtzzt40000gp/T/ipykernel_98870/399564805.py:22: PerformanceWarning: DataFrame is highly fragmented.  This is usually the result of calling `frame.insert` many times, which has poor performance.  Consider joining all columns at once using pd.concat(axis=1) instead. To get a de-fragmented frame, use `newframe = frame.copy()`\n",
      "  all_pairs[f'attribute_{key}_eq_jaccard'] = (\n"
     ]
    },
    {
     "data": {
      "application/vnd.jupyter.widget-view+json": {
       "model_id": "e90b533378c6497dab3c812722e453bc",
       "version_major": 2,
       "version_minor": 0
      },
      "text/plain": [
       "  0%|          | 0/18084 [00:00<?, ?it/s]"
      ]
     },
     "metadata": {},
     "output_type": "display_data"
    },
    {
     "name": "stderr",
     "output_type": "stream",
     "text": [
      "/var/folders/5j/bz9y36mx4k391r74dcjtzzt40000gp/T/ipykernel_98870/399564805.py:22: PerformanceWarning: DataFrame is highly fragmented.  This is usually the result of calling `frame.insert` many times, which has poor performance.  Consider joining all columns at once using pd.concat(axis=1) instead. To get a de-fragmented frame, use `newframe = frame.copy()`\n",
      "  all_pairs[f'attribute_{key}_eq_jaccard'] = (\n"
     ]
    },
    {
     "data": {
      "application/vnd.jupyter.widget-view+json": {
       "model_id": "836ff8cbcabd4b9ea7d975a1ae1a81cf",
       "version_major": 2,
       "version_minor": 0
      },
      "text/plain": [
       "  0%|          | 0/18084 [00:00<?, ?it/s]"
      ]
     },
     "metadata": {},
     "output_type": "display_data"
    },
    {
     "name": "stderr",
     "output_type": "stream",
     "text": [
      "/var/folders/5j/bz9y36mx4k391r74dcjtzzt40000gp/T/ipykernel_98870/399564805.py:22: PerformanceWarning: DataFrame is highly fragmented.  This is usually the result of calling `frame.insert` many times, which has poor performance.  Consider joining all columns at once using pd.concat(axis=1) instead. To get a de-fragmented frame, use `newframe = frame.copy()`\n",
      "  all_pairs[f'attribute_{key}_eq_jaccard'] = (\n"
     ]
    },
    {
     "data": {
      "application/vnd.jupyter.widget-view+json": {
       "model_id": "d9d78fa9a4a4442a81fb5a0a2338e216",
       "version_major": 2,
       "version_minor": 0
      },
      "text/plain": [
       "  0%|          | 0/18084 [00:00<?, ?it/s]"
      ]
     },
     "metadata": {},
     "output_type": "display_data"
    },
    {
     "name": "stderr",
     "output_type": "stream",
     "text": [
      "/var/folders/5j/bz9y36mx4k391r74dcjtzzt40000gp/T/ipykernel_98870/399564805.py:22: PerformanceWarning: DataFrame is highly fragmented.  This is usually the result of calling `frame.insert` many times, which has poor performance.  Consider joining all columns at once using pd.concat(axis=1) instead. To get a de-fragmented frame, use `newframe = frame.copy()`\n",
      "  all_pairs[f'attribute_{key}_eq_jaccard'] = (\n"
     ]
    },
    {
     "data": {
      "application/vnd.jupyter.widget-view+json": {
       "model_id": "3a05413cc15d4712b1fb4c2831ffc3d0",
       "version_major": 2,
       "version_minor": 0
      },
      "text/plain": [
       "  0%|          | 0/18084 [00:00<?, ?it/s]"
      ]
     },
     "metadata": {},
     "output_type": "display_data"
    },
    {
     "name": "stderr",
     "output_type": "stream",
     "text": [
      "/var/folders/5j/bz9y36mx4k391r74dcjtzzt40000gp/T/ipykernel_98870/399564805.py:22: PerformanceWarning: DataFrame is highly fragmented.  This is usually the result of calling `frame.insert` many times, which has poor performance.  Consider joining all columns at once using pd.concat(axis=1) instead. To get a de-fragmented frame, use `newframe = frame.copy()`\n",
      "  all_pairs[f'attribute_{key}_eq_jaccard'] = (\n"
     ]
    },
    {
     "data": {
      "application/vnd.jupyter.widget-view+json": {
       "model_id": "908d6eb683e24bfa9febed4293e96200",
       "version_major": 2,
       "version_minor": 0
      },
      "text/plain": [
       "  0%|          | 0/18084 [00:00<?, ?it/s]"
      ]
     },
     "metadata": {},
     "output_type": "display_data"
    },
    {
     "name": "stderr",
     "output_type": "stream",
     "text": [
      "/var/folders/5j/bz9y36mx4k391r74dcjtzzt40000gp/T/ipykernel_98870/399564805.py:22: PerformanceWarning: DataFrame is highly fragmented.  This is usually the result of calling `frame.insert` many times, which has poor performance.  Consider joining all columns at once using pd.concat(axis=1) instead. To get a de-fragmented frame, use `newframe = frame.copy()`\n",
      "  all_pairs[f'attribute_{key}_eq_jaccard'] = (\n"
     ]
    },
    {
     "data": {
      "application/vnd.jupyter.widget-view+json": {
       "model_id": "ec9d8cbbdd26457780c7fa56069588c8",
       "version_major": 2,
       "version_minor": 0
      },
      "text/plain": [
       "  0%|          | 0/18084 [00:00<?, ?it/s]"
      ]
     },
     "metadata": {},
     "output_type": "display_data"
    },
    {
     "name": "stderr",
     "output_type": "stream",
     "text": [
      "/var/folders/5j/bz9y36mx4k391r74dcjtzzt40000gp/T/ipykernel_98870/399564805.py:22: PerformanceWarning: DataFrame is highly fragmented.  This is usually the result of calling `frame.insert` many times, which has poor performance.  Consider joining all columns at once using pd.concat(axis=1) instead. To get a de-fragmented frame, use `newframe = frame.copy()`\n",
      "  all_pairs[f'attribute_{key}_eq_jaccard'] = (\n"
     ]
    },
    {
     "data": {
      "application/vnd.jupyter.widget-view+json": {
       "model_id": "a3dc9ce73c6c4db2a492e3582647f2d7",
       "version_major": 2,
       "version_minor": 0
      },
      "text/plain": [
       "  0%|          | 0/18084 [00:00<?, ?it/s]"
      ]
     },
     "metadata": {},
     "output_type": "display_data"
    },
    {
     "name": "stderr",
     "output_type": "stream",
     "text": [
      "/var/folders/5j/bz9y36mx4k391r74dcjtzzt40000gp/T/ipykernel_98870/399564805.py:22: PerformanceWarning: DataFrame is highly fragmented.  This is usually the result of calling `frame.insert` many times, which has poor performance.  Consider joining all columns at once using pd.concat(axis=1) instead. To get a de-fragmented frame, use `newframe = frame.copy()`\n",
      "  all_pairs[f'attribute_{key}_eq_jaccard'] = (\n"
     ]
    },
    {
     "data": {
      "application/vnd.jupyter.widget-view+json": {
       "model_id": "88b9bf8948844fb9923d36bb6850077f",
       "version_major": 2,
       "version_minor": 0
      },
      "text/plain": [
       "  0%|          | 0/18084 [00:00<?, ?it/s]"
      ]
     },
     "metadata": {},
     "output_type": "display_data"
    },
    {
     "name": "stderr",
     "output_type": "stream",
     "text": [
      "/var/folders/5j/bz9y36mx4k391r74dcjtzzt40000gp/T/ipykernel_98870/399564805.py:22: PerformanceWarning: DataFrame is highly fragmented.  This is usually the result of calling `frame.insert` many times, which has poor performance.  Consider joining all columns at once using pd.concat(axis=1) instead. To get a de-fragmented frame, use `newframe = frame.copy()`\n",
      "  all_pairs[f'attribute_{key}_eq_jaccard'] = (\n"
     ]
    },
    {
     "data": {
      "application/vnd.jupyter.widget-view+json": {
       "model_id": "786a5552f571426fa04a88ac94d920d5",
       "version_major": 2,
       "version_minor": 0
      },
      "text/plain": [
       "  0%|          | 0/18084 [00:00<?, ?it/s]"
      ]
     },
     "metadata": {},
     "output_type": "display_data"
    },
    {
     "name": "stderr",
     "output_type": "stream",
     "text": [
      "/var/folders/5j/bz9y36mx4k391r74dcjtzzt40000gp/T/ipykernel_98870/399564805.py:22: PerformanceWarning: DataFrame is highly fragmented.  This is usually the result of calling `frame.insert` many times, which has poor performance.  Consider joining all columns at once using pd.concat(axis=1) instead. To get a de-fragmented frame, use `newframe = frame.copy()`\n",
      "  all_pairs[f'attribute_{key}_eq_jaccard'] = (\n"
     ]
    },
    {
     "data": {
      "application/vnd.jupyter.widget-view+json": {
       "model_id": "6a148827dabe4760885d28e9e47b0b98",
       "version_major": 2,
       "version_minor": 0
      },
      "text/plain": [
       "  0%|          | 0/18084 [00:00<?, ?it/s]"
      ]
     },
     "metadata": {},
     "output_type": "display_data"
    },
    {
     "name": "stderr",
     "output_type": "stream",
     "text": [
      "/var/folders/5j/bz9y36mx4k391r74dcjtzzt40000gp/T/ipykernel_98870/399564805.py:22: PerformanceWarning: DataFrame is highly fragmented.  This is usually the result of calling `frame.insert` many times, which has poor performance.  Consider joining all columns at once using pd.concat(axis=1) instead. To get a de-fragmented frame, use `newframe = frame.copy()`\n",
      "  all_pairs[f'attribute_{key}_eq_jaccard'] = (\n"
     ]
    },
    {
     "data": {
      "application/vnd.jupyter.widget-view+json": {
       "model_id": "2d00d7bf02f14df0a111799e15fc86ce",
       "version_major": 2,
       "version_minor": 0
      },
      "text/plain": [
       "  0%|          | 0/18084 [00:00<?, ?it/s]"
      ]
     },
     "metadata": {},
     "output_type": "display_data"
    },
    {
     "name": "stderr",
     "output_type": "stream",
     "text": [
      "/var/folders/5j/bz9y36mx4k391r74dcjtzzt40000gp/T/ipykernel_98870/399564805.py:22: PerformanceWarning: DataFrame is highly fragmented.  This is usually the result of calling `frame.insert` many times, which has poor performance.  Consider joining all columns at once using pd.concat(axis=1) instead. To get a de-fragmented frame, use `newframe = frame.copy()`\n",
      "  all_pairs[f'attribute_{key}_eq_jaccard'] = (\n"
     ]
    },
    {
     "data": {
      "application/vnd.jupyter.widget-view+json": {
       "model_id": "f6f24a414d45470387bf8b955b1fbcdc",
       "version_major": 2,
       "version_minor": 0
      },
      "text/plain": [
       "  0%|          | 0/18084 [00:00<?, ?it/s]"
      ]
     },
     "metadata": {},
     "output_type": "display_data"
    },
    {
     "name": "stderr",
     "output_type": "stream",
     "text": [
      "/var/folders/5j/bz9y36mx4k391r74dcjtzzt40000gp/T/ipykernel_98870/399564805.py:22: PerformanceWarning: DataFrame is highly fragmented.  This is usually the result of calling `frame.insert` many times, which has poor performance.  Consider joining all columns at once using pd.concat(axis=1) instead. To get a de-fragmented frame, use `newframe = frame.copy()`\n",
      "  all_pairs[f'attribute_{key}_eq_jaccard'] = (\n"
     ]
    },
    {
     "data": {
      "application/vnd.jupyter.widget-view+json": {
       "model_id": "2d454cbf9f8a404aa87153b4b43a7cdf",
       "version_major": 2,
       "version_minor": 0
      },
      "text/plain": [
       "  0%|          | 0/18084 [00:00<?, ?it/s]"
      ]
     },
     "metadata": {},
     "output_type": "display_data"
    },
    {
     "name": "stderr",
     "output_type": "stream",
     "text": [
      "/var/folders/5j/bz9y36mx4k391r74dcjtzzt40000gp/T/ipykernel_98870/399564805.py:22: PerformanceWarning: DataFrame is highly fragmented.  This is usually the result of calling `frame.insert` many times, which has poor performance.  Consider joining all columns at once using pd.concat(axis=1) instead. To get a de-fragmented frame, use `newframe = frame.copy()`\n",
      "  all_pairs[f'attribute_{key}_eq_jaccard'] = (\n"
     ]
    },
    {
     "data": {
      "application/vnd.jupyter.widget-view+json": {
       "model_id": "b061fc548c254d5d84697cf84da34ab1",
       "version_major": 2,
       "version_minor": 0
      },
      "text/plain": [
       "  0%|          | 0/18084 [00:00<?, ?it/s]"
      ]
     },
     "metadata": {},
     "output_type": "display_data"
    },
    {
     "name": "stderr",
     "output_type": "stream",
     "text": [
      "/var/folders/5j/bz9y36mx4k391r74dcjtzzt40000gp/T/ipykernel_98870/399564805.py:22: PerformanceWarning: DataFrame is highly fragmented.  This is usually the result of calling `frame.insert` many times, which has poor performance.  Consider joining all columns at once using pd.concat(axis=1) instead. To get a de-fragmented frame, use `newframe = frame.copy()`\n",
      "  all_pairs[f'attribute_{key}_eq_jaccard'] = (\n"
     ]
    },
    {
     "data": {
      "application/vnd.jupyter.widget-view+json": {
       "model_id": "9608e863e6c4418d8572c62885d66523",
       "version_major": 2,
       "version_minor": 0
      },
      "text/plain": [
       "  0%|          | 0/18084 [00:00<?, ?it/s]"
      ]
     },
     "metadata": {},
     "output_type": "display_data"
    },
    {
     "name": "stderr",
     "output_type": "stream",
     "text": [
      "/var/folders/5j/bz9y36mx4k391r74dcjtzzt40000gp/T/ipykernel_98870/399564805.py:22: PerformanceWarning: DataFrame is highly fragmented.  This is usually the result of calling `frame.insert` many times, which has poor performance.  Consider joining all columns at once using pd.concat(axis=1) instead. To get a de-fragmented frame, use `newframe = frame.copy()`\n",
      "  all_pairs[f'attribute_{key}_eq_jaccard'] = (\n"
     ]
    },
    {
     "data": {
      "application/vnd.jupyter.widget-view+json": {
       "model_id": "27b2dce760de48079aa74f38e43b4a6a",
       "version_major": 2,
       "version_minor": 0
      },
      "text/plain": [
       "  0%|          | 0/18084 [00:00<?, ?it/s]"
      ]
     },
     "metadata": {},
     "output_type": "display_data"
    },
    {
     "name": "stderr",
     "output_type": "stream",
     "text": [
      "/var/folders/5j/bz9y36mx4k391r74dcjtzzt40000gp/T/ipykernel_98870/399564805.py:22: PerformanceWarning: DataFrame is highly fragmented.  This is usually the result of calling `frame.insert` many times, which has poor performance.  Consider joining all columns at once using pd.concat(axis=1) instead. To get a de-fragmented frame, use `newframe = frame.copy()`\n",
      "  all_pairs[f'attribute_{key}_eq_jaccard'] = (\n"
     ]
    },
    {
     "data": {
      "application/vnd.jupyter.widget-view+json": {
       "model_id": "e31283fac66d4648ba8422515e9b8e6c",
       "version_major": 2,
       "version_minor": 0
      },
      "text/plain": [
       "  0%|          | 0/18084 [00:00<?, ?it/s]"
      ]
     },
     "metadata": {},
     "output_type": "display_data"
    },
    {
     "name": "stderr",
     "output_type": "stream",
     "text": [
      "/var/folders/5j/bz9y36mx4k391r74dcjtzzt40000gp/T/ipykernel_98870/399564805.py:22: PerformanceWarning: DataFrame is highly fragmented.  This is usually the result of calling `frame.insert` many times, which has poor performance.  Consider joining all columns at once using pd.concat(axis=1) instead. To get a de-fragmented frame, use `newframe = frame.copy()`\n",
      "  all_pairs[f'attribute_{key}_eq_jaccard'] = (\n"
     ]
    },
    {
     "data": {
      "application/vnd.jupyter.widget-view+json": {
       "model_id": "532889e5d0ab459aa73076dd9b78fb06",
       "version_major": 2,
       "version_minor": 0
      },
      "text/plain": [
       "  0%|          | 0/18084 [00:00<?, ?it/s]"
      ]
     },
     "metadata": {},
     "output_type": "display_data"
    },
    {
     "name": "stderr",
     "output_type": "stream",
     "text": [
      "/var/folders/5j/bz9y36mx4k391r74dcjtzzt40000gp/T/ipykernel_98870/399564805.py:22: PerformanceWarning: DataFrame is highly fragmented.  This is usually the result of calling `frame.insert` many times, which has poor performance.  Consider joining all columns at once using pd.concat(axis=1) instead. To get a de-fragmented frame, use `newframe = frame.copy()`\n",
      "  all_pairs[f'attribute_{key}_eq_jaccard'] = (\n"
     ]
    },
    {
     "data": {
      "application/vnd.jupyter.widget-view+json": {
       "model_id": "838d672213b74d9fbb84482588fadf51",
       "version_major": 2,
       "version_minor": 0
      },
      "text/plain": [
       "  0%|          | 0/18084 [00:00<?, ?it/s]"
      ]
     },
     "metadata": {},
     "output_type": "display_data"
    },
    {
     "name": "stderr",
     "output_type": "stream",
     "text": [
      "/var/folders/5j/bz9y36mx4k391r74dcjtzzt40000gp/T/ipykernel_98870/399564805.py:22: PerformanceWarning: DataFrame is highly fragmented.  This is usually the result of calling `frame.insert` many times, which has poor performance.  Consider joining all columns at once using pd.concat(axis=1) instead. To get a de-fragmented frame, use `newframe = frame.copy()`\n",
      "  all_pairs[f'attribute_{key}_eq_jaccard'] = (\n"
     ]
    },
    {
     "data": {
      "application/vnd.jupyter.widget-view+json": {
       "model_id": "313223d7e61e43609cf8a62f693e63c7",
       "version_major": 2,
       "version_minor": 0
      },
      "text/plain": [
       "  0%|          | 0/18084 [00:00<?, ?it/s]"
      ]
     },
     "metadata": {},
     "output_type": "display_data"
    },
    {
     "name": "stderr",
     "output_type": "stream",
     "text": [
      "/var/folders/5j/bz9y36mx4k391r74dcjtzzt40000gp/T/ipykernel_98870/399564805.py:22: PerformanceWarning: DataFrame is highly fragmented.  This is usually the result of calling `frame.insert` many times, which has poor performance.  Consider joining all columns at once using pd.concat(axis=1) instead. To get a de-fragmented frame, use `newframe = frame.copy()`\n",
      "  all_pairs[f'attribute_{key}_eq_jaccard'] = (\n"
     ]
    },
    {
     "data": {
      "application/vnd.jupyter.widget-view+json": {
       "model_id": "c8c3756e65604bfea3e370f54803b3ff",
       "version_major": 2,
       "version_minor": 0
      },
      "text/plain": [
       "  0%|          | 0/18084 [00:00<?, ?it/s]"
      ]
     },
     "metadata": {},
     "output_type": "display_data"
    },
    {
     "name": "stderr",
     "output_type": "stream",
     "text": [
      "/var/folders/5j/bz9y36mx4k391r74dcjtzzt40000gp/T/ipykernel_98870/399564805.py:22: PerformanceWarning: DataFrame is highly fragmented.  This is usually the result of calling `frame.insert` many times, which has poor performance.  Consider joining all columns at once using pd.concat(axis=1) instead. To get a de-fragmented frame, use `newframe = frame.copy()`\n",
      "  all_pairs[f'attribute_{key}_eq_jaccard'] = (\n"
     ]
    },
    {
     "data": {
      "application/vnd.jupyter.widget-view+json": {
       "model_id": "8211201f4e1a4bd8b2ff11b86165aaf8",
       "version_major": 2,
       "version_minor": 0
      },
      "text/plain": [
       "  0%|          | 0/18084 [00:00<?, ?it/s]"
      ]
     },
     "metadata": {},
     "output_type": "display_data"
    },
    {
     "name": "stderr",
     "output_type": "stream",
     "text": [
      "/var/folders/5j/bz9y36mx4k391r74dcjtzzt40000gp/T/ipykernel_98870/399564805.py:22: PerformanceWarning: DataFrame is highly fragmented.  This is usually the result of calling `frame.insert` many times, which has poor performance.  Consider joining all columns at once using pd.concat(axis=1) instead. To get a de-fragmented frame, use `newframe = frame.copy()`\n",
      "  all_pairs[f'attribute_{key}_eq_jaccard'] = (\n"
     ]
    },
    {
     "data": {
      "application/vnd.jupyter.widget-view+json": {
       "model_id": "bc2a13f2d8fd4d198109f3e730342454",
       "version_major": 2,
       "version_minor": 0
      },
      "text/plain": [
       "  0%|          | 0/18084 [00:00<?, ?it/s]"
      ]
     },
     "metadata": {},
     "output_type": "display_data"
    },
    {
     "name": "stderr",
     "output_type": "stream",
     "text": [
      "/var/folders/5j/bz9y36mx4k391r74dcjtzzt40000gp/T/ipykernel_98870/399564805.py:22: PerformanceWarning: DataFrame is highly fragmented.  This is usually the result of calling `frame.insert` many times, which has poor performance.  Consider joining all columns at once using pd.concat(axis=1) instead. To get a de-fragmented frame, use `newframe = frame.copy()`\n",
      "  all_pairs[f'attribute_{key}_eq_jaccard'] = (\n"
     ]
    },
    {
     "data": {
      "application/vnd.jupyter.widget-view+json": {
       "model_id": "b21a5a5eb3454b009216ec991f9e0704",
       "version_major": 2,
       "version_minor": 0
      },
      "text/plain": [
       "  0%|          | 0/18084 [00:00<?, ?it/s]"
      ]
     },
     "metadata": {},
     "output_type": "display_data"
    },
    {
     "name": "stderr",
     "output_type": "stream",
     "text": [
      "/var/folders/5j/bz9y36mx4k391r74dcjtzzt40000gp/T/ipykernel_98870/399564805.py:22: PerformanceWarning: DataFrame is highly fragmented.  This is usually the result of calling `frame.insert` many times, which has poor performance.  Consider joining all columns at once using pd.concat(axis=1) instead. To get a de-fragmented frame, use `newframe = frame.copy()`\n",
      "  all_pairs[f'attribute_{key}_eq_jaccard'] = (\n"
     ]
    },
    {
     "data": {
      "application/vnd.jupyter.widget-view+json": {
       "model_id": "1f44eb9b9a0f4ac2a4b011f0f37cc507",
       "version_major": 2,
       "version_minor": 0
      },
      "text/plain": [
       "  0%|          | 0/18084 [00:00<?, ?it/s]"
      ]
     },
     "metadata": {},
     "output_type": "display_data"
    },
    {
     "name": "stderr",
     "output_type": "stream",
     "text": [
      "/var/folders/5j/bz9y36mx4k391r74dcjtzzt40000gp/T/ipykernel_98870/399564805.py:22: PerformanceWarning: DataFrame is highly fragmented.  This is usually the result of calling `frame.insert` many times, which has poor performance.  Consider joining all columns at once using pd.concat(axis=1) instead. To get a de-fragmented frame, use `newframe = frame.copy()`\n",
      "  all_pairs[f'attribute_{key}_eq_jaccard'] = (\n"
     ]
    },
    {
     "data": {
      "application/vnd.jupyter.widget-view+json": {
       "model_id": "709341e31cd5491186fc87cf1e9f43fd",
       "version_major": 2,
       "version_minor": 0
      },
      "text/plain": [
       "  0%|          | 0/18084 [00:00<?, ?it/s]"
      ]
     },
     "metadata": {},
     "output_type": "display_data"
    },
    {
     "name": "stderr",
     "output_type": "stream",
     "text": [
      "/var/folders/5j/bz9y36mx4k391r74dcjtzzt40000gp/T/ipykernel_98870/399564805.py:22: PerformanceWarning: DataFrame is highly fragmented.  This is usually the result of calling `frame.insert` many times, which has poor performance.  Consider joining all columns at once using pd.concat(axis=1) instead. To get a de-fragmented frame, use `newframe = frame.copy()`\n",
      "  all_pairs[f'attribute_{key}_eq_jaccard'] = (\n"
     ]
    },
    {
     "data": {
      "application/vnd.jupyter.widget-view+json": {
       "model_id": "b84d542d9edb4aabb278f2ceafc2d7bf",
       "version_major": 2,
       "version_minor": 0
      },
      "text/plain": [
       "  0%|          | 0/18084 [00:00<?, ?it/s]"
      ]
     },
     "metadata": {},
     "output_type": "display_data"
    },
    {
     "name": "stderr",
     "output_type": "stream",
     "text": [
      "/var/folders/5j/bz9y36mx4k391r74dcjtzzt40000gp/T/ipykernel_98870/399564805.py:22: PerformanceWarning: DataFrame is highly fragmented.  This is usually the result of calling `frame.insert` many times, which has poor performance.  Consider joining all columns at once using pd.concat(axis=1) instead. To get a de-fragmented frame, use `newframe = frame.copy()`\n",
      "  all_pairs[f'attribute_{key}_eq_jaccard'] = (\n"
     ]
    },
    {
     "data": {
      "application/vnd.jupyter.widget-view+json": {
       "model_id": "6eac7bc3164d450ea7ebd4b8ac947593",
       "version_major": 2,
       "version_minor": 0
      },
      "text/plain": [
       "  0%|          | 0/18084 [00:00<?, ?it/s]"
      ]
     },
     "metadata": {},
     "output_type": "display_data"
    },
    {
     "name": "stderr",
     "output_type": "stream",
     "text": [
      "/var/folders/5j/bz9y36mx4k391r74dcjtzzt40000gp/T/ipykernel_98870/399564805.py:22: PerformanceWarning: DataFrame is highly fragmented.  This is usually the result of calling `frame.insert` many times, which has poor performance.  Consider joining all columns at once using pd.concat(axis=1) instead. To get a de-fragmented frame, use `newframe = frame.copy()`\n",
      "  all_pairs[f'attribute_{key}_eq_jaccard'] = (\n"
     ]
    },
    {
     "data": {
      "application/vnd.jupyter.widget-view+json": {
       "model_id": "8e9c44e36d0148ed9e6e704acf159253",
       "version_major": 2,
       "version_minor": 0
      },
      "text/plain": [
       "  0%|          | 0/18084 [00:00<?, ?it/s]"
      ]
     },
     "metadata": {},
     "output_type": "display_data"
    },
    {
     "name": "stderr",
     "output_type": "stream",
     "text": [
      "/var/folders/5j/bz9y36mx4k391r74dcjtzzt40000gp/T/ipykernel_98870/399564805.py:22: PerformanceWarning: DataFrame is highly fragmented.  This is usually the result of calling `frame.insert` many times, which has poor performance.  Consider joining all columns at once using pd.concat(axis=1) instead. To get a de-fragmented frame, use `newframe = frame.copy()`\n",
      "  all_pairs[f'attribute_{key}_eq_jaccard'] = (\n"
     ]
    },
    {
     "data": {
      "application/vnd.jupyter.widget-view+json": {
       "model_id": "7cfdf3714f2f40cb9bc24aacecd732ad",
       "version_major": 2,
       "version_minor": 0
      },
      "text/plain": [
       "  0%|          | 0/18084 [00:00<?, ?it/s]"
      ]
     },
     "metadata": {},
     "output_type": "display_data"
    },
    {
     "name": "stderr",
     "output_type": "stream",
     "text": [
      "/var/folders/5j/bz9y36mx4k391r74dcjtzzt40000gp/T/ipykernel_98870/399564805.py:22: PerformanceWarning: DataFrame is highly fragmented.  This is usually the result of calling `frame.insert` many times, which has poor performance.  Consider joining all columns at once using pd.concat(axis=1) instead. To get a de-fragmented frame, use `newframe = frame.copy()`\n",
      "  all_pairs[f'attribute_{key}_eq_jaccard'] = (\n"
     ]
    },
    {
     "data": {
      "application/vnd.jupyter.widget-view+json": {
       "model_id": "c738bc7ba6854561a1f2bbbb64235212",
       "version_major": 2,
       "version_minor": 0
      },
      "text/plain": [
       "  0%|          | 0/18084 [00:00<?, ?it/s]"
      ]
     },
     "metadata": {},
     "output_type": "display_data"
    },
    {
     "name": "stderr",
     "output_type": "stream",
     "text": [
      "/var/folders/5j/bz9y36mx4k391r74dcjtzzt40000gp/T/ipykernel_98870/399564805.py:22: PerformanceWarning: DataFrame is highly fragmented.  This is usually the result of calling `frame.insert` many times, which has poor performance.  Consider joining all columns at once using pd.concat(axis=1) instead. To get a de-fragmented frame, use `newframe = frame.copy()`\n",
      "  all_pairs[f'attribute_{key}_eq_jaccard'] = (\n"
     ]
    },
    {
     "data": {
      "application/vnd.jupyter.widget-view+json": {
       "model_id": "35572cbf43184488be9930819c90765f",
       "version_major": 2,
       "version_minor": 0
      },
      "text/plain": [
       "  0%|          | 0/18084 [00:00<?, ?it/s]"
      ]
     },
     "metadata": {},
     "output_type": "display_data"
    },
    {
     "name": "stderr",
     "output_type": "stream",
     "text": [
      "/var/folders/5j/bz9y36mx4k391r74dcjtzzt40000gp/T/ipykernel_98870/399564805.py:22: PerformanceWarning: DataFrame is highly fragmented.  This is usually the result of calling `frame.insert` many times, which has poor performance.  Consider joining all columns at once using pd.concat(axis=1) instead. To get a de-fragmented frame, use `newframe = frame.copy()`\n",
      "  all_pairs[f'attribute_{key}_eq_jaccard'] = (\n"
     ]
    },
    {
     "data": {
      "application/vnd.jupyter.widget-view+json": {
       "model_id": "c98c4d6cfe774ee3a911c961e20d2a72",
       "version_major": 2,
       "version_minor": 0
      },
      "text/plain": [
       "  0%|          | 0/18084 [00:00<?, ?it/s]"
      ]
     },
     "metadata": {},
     "output_type": "display_data"
    },
    {
     "name": "stderr",
     "output_type": "stream",
     "text": [
      "/var/folders/5j/bz9y36mx4k391r74dcjtzzt40000gp/T/ipykernel_98870/399564805.py:22: PerformanceWarning: DataFrame is highly fragmented.  This is usually the result of calling `frame.insert` many times, which has poor performance.  Consider joining all columns at once using pd.concat(axis=1) instead. To get a de-fragmented frame, use `newframe = frame.copy()`\n",
      "  all_pairs[f'attribute_{key}_eq_jaccard'] = (\n"
     ]
    },
    {
     "data": {
      "application/vnd.jupyter.widget-view+json": {
       "model_id": "e2bfe84c08fd4a02b2bd8e54c0738068",
       "version_major": 2,
       "version_minor": 0
      },
      "text/plain": [
       "  0%|          | 0/18084 [00:00<?, ?it/s]"
      ]
     },
     "metadata": {},
     "output_type": "display_data"
    },
    {
     "name": "stderr",
     "output_type": "stream",
     "text": [
      "/var/folders/5j/bz9y36mx4k391r74dcjtzzt40000gp/T/ipykernel_98870/399564805.py:22: PerformanceWarning: DataFrame is highly fragmented.  This is usually the result of calling `frame.insert` many times, which has poor performance.  Consider joining all columns at once using pd.concat(axis=1) instead. To get a de-fragmented frame, use `newframe = frame.copy()`\n",
      "  all_pairs[f'attribute_{key}_eq_jaccard'] = (\n"
     ]
    },
    {
     "data": {
      "application/vnd.jupyter.widget-view+json": {
       "model_id": "ba0abfde9a1040b3b425542ecb28dd34",
       "version_major": 2,
       "version_minor": 0
      },
      "text/plain": [
       "  0%|          | 0/18084 [00:00<?, ?it/s]"
      ]
     },
     "metadata": {},
     "output_type": "display_data"
    },
    {
     "name": "stderr",
     "output_type": "stream",
     "text": [
      "/var/folders/5j/bz9y36mx4k391r74dcjtzzt40000gp/T/ipykernel_98870/399564805.py:22: PerformanceWarning: DataFrame is highly fragmented.  This is usually the result of calling `frame.insert` many times, which has poor performance.  Consider joining all columns at once using pd.concat(axis=1) instead. To get a de-fragmented frame, use `newframe = frame.copy()`\n",
      "  all_pairs[f'attribute_{key}_eq_jaccard'] = (\n"
     ]
    },
    {
     "data": {
      "application/vnd.jupyter.widget-view+json": {
       "model_id": "de85e21bda6446ba8f38d1450aa46984",
       "version_major": 2,
       "version_minor": 0
      },
      "text/plain": [
       "  0%|          | 0/18084 [00:00<?, ?it/s]"
      ]
     },
     "metadata": {},
     "output_type": "display_data"
    },
    {
     "name": "stderr",
     "output_type": "stream",
     "text": [
      "/var/folders/5j/bz9y36mx4k391r74dcjtzzt40000gp/T/ipykernel_98870/399564805.py:22: PerformanceWarning: DataFrame is highly fragmented.  This is usually the result of calling `frame.insert` many times, which has poor performance.  Consider joining all columns at once using pd.concat(axis=1) instead. To get a de-fragmented frame, use `newframe = frame.copy()`\n",
      "  all_pairs[f'attribute_{key}_eq_jaccard'] = (\n"
     ]
    },
    {
     "data": {
      "application/vnd.jupyter.widget-view+json": {
       "model_id": "5e50faaa2cbd4717b1380b3c7177fee9",
       "version_major": 2,
       "version_minor": 0
      },
      "text/plain": [
       "  0%|          | 0/18084 [00:00<?, ?it/s]"
      ]
     },
     "metadata": {},
     "output_type": "display_data"
    },
    {
     "name": "stderr",
     "output_type": "stream",
     "text": [
      "/var/folders/5j/bz9y36mx4k391r74dcjtzzt40000gp/T/ipykernel_98870/399564805.py:22: PerformanceWarning: DataFrame is highly fragmented.  This is usually the result of calling `frame.insert` many times, which has poor performance.  Consider joining all columns at once using pd.concat(axis=1) instead. To get a de-fragmented frame, use `newframe = frame.copy()`\n",
      "  all_pairs[f'attribute_{key}_eq_jaccard'] = (\n"
     ]
    },
    {
     "data": {
      "application/vnd.jupyter.widget-view+json": {
       "model_id": "acb90b60e30d42f6a9cfc71197fbf3b2",
       "version_major": 2,
       "version_minor": 0
      },
      "text/plain": [
       "  0%|          | 0/18084 [00:00<?, ?it/s]"
      ]
     },
     "metadata": {},
     "output_type": "display_data"
    },
    {
     "name": "stderr",
     "output_type": "stream",
     "text": [
      "/var/folders/5j/bz9y36mx4k391r74dcjtzzt40000gp/T/ipykernel_98870/399564805.py:22: PerformanceWarning: DataFrame is highly fragmented.  This is usually the result of calling `frame.insert` many times, which has poor performance.  Consider joining all columns at once using pd.concat(axis=1) instead. To get a de-fragmented frame, use `newframe = frame.copy()`\n",
      "  all_pairs[f'attribute_{key}_eq_jaccard'] = (\n"
     ]
    },
    {
     "data": {
      "application/vnd.jupyter.widget-view+json": {
       "model_id": "c6da1251698d4b9c9cebb308931d06f6",
       "version_major": 2,
       "version_minor": 0
      },
      "text/plain": [
       "  0%|          | 0/18084 [00:00<?, ?it/s]"
      ]
     },
     "metadata": {},
     "output_type": "display_data"
    },
    {
     "name": "stderr",
     "output_type": "stream",
     "text": [
      "/var/folders/5j/bz9y36mx4k391r74dcjtzzt40000gp/T/ipykernel_98870/399564805.py:22: PerformanceWarning: DataFrame is highly fragmented.  This is usually the result of calling `frame.insert` many times, which has poor performance.  Consider joining all columns at once using pd.concat(axis=1) instead. To get a de-fragmented frame, use `newframe = frame.copy()`\n",
      "  all_pairs[f'attribute_{key}_eq_jaccard'] = (\n"
     ]
    },
    {
     "data": {
      "application/vnd.jupyter.widget-view+json": {
       "model_id": "d7683b40ed204e169e6602939758da79",
       "version_major": 2,
       "version_minor": 0
      },
      "text/plain": [
       "  0%|          | 0/18084 [00:00<?, ?it/s]"
      ]
     },
     "metadata": {},
     "output_type": "display_data"
    },
    {
     "name": "stderr",
     "output_type": "stream",
     "text": [
      "/var/folders/5j/bz9y36mx4k391r74dcjtzzt40000gp/T/ipykernel_98870/399564805.py:22: PerformanceWarning: DataFrame is highly fragmented.  This is usually the result of calling `frame.insert` many times, which has poor performance.  Consider joining all columns at once using pd.concat(axis=1) instead. To get a de-fragmented frame, use `newframe = frame.copy()`\n",
      "  all_pairs[f'attribute_{key}_eq_jaccard'] = (\n"
     ]
    },
    {
     "data": {
      "application/vnd.jupyter.widget-view+json": {
       "model_id": "85f91d835b1d48c8882280f8b9a5187a",
       "version_major": 2,
       "version_minor": 0
      },
      "text/plain": [
       "  0%|          | 0/18084 [00:00<?, ?it/s]"
      ]
     },
     "metadata": {},
     "output_type": "display_data"
    },
    {
     "name": "stderr",
     "output_type": "stream",
     "text": [
      "/var/folders/5j/bz9y36mx4k391r74dcjtzzt40000gp/T/ipykernel_98870/399564805.py:22: PerformanceWarning: DataFrame is highly fragmented.  This is usually the result of calling `frame.insert` many times, which has poor performance.  Consider joining all columns at once using pd.concat(axis=1) instead. To get a de-fragmented frame, use `newframe = frame.copy()`\n",
      "  all_pairs[f'attribute_{key}_eq_jaccard'] = (\n"
     ]
    },
    {
     "data": {
      "application/vnd.jupyter.widget-view+json": {
       "model_id": "edd815c2bd2a43d998412cdb80f03159",
       "version_major": 2,
       "version_minor": 0
      },
      "text/plain": [
       "  0%|          | 0/18084 [00:00<?, ?it/s]"
      ]
     },
     "metadata": {},
     "output_type": "display_data"
    },
    {
     "name": "stderr",
     "output_type": "stream",
     "text": [
      "/var/folders/5j/bz9y36mx4k391r74dcjtzzt40000gp/T/ipykernel_98870/399564805.py:22: PerformanceWarning: DataFrame is highly fragmented.  This is usually the result of calling `frame.insert` many times, which has poor performance.  Consider joining all columns at once using pd.concat(axis=1) instead. To get a de-fragmented frame, use `newframe = frame.copy()`\n",
      "  all_pairs[f'attribute_{key}_eq_jaccard'] = (\n"
     ]
    },
    {
     "data": {
      "application/vnd.jupyter.widget-view+json": {
       "model_id": "9163ba70cee24da8b2c429b27d63ab98",
       "version_major": 2,
       "version_minor": 0
      },
      "text/plain": [
       "  0%|          | 0/18084 [00:00<?, ?it/s]"
      ]
     },
     "metadata": {},
     "output_type": "display_data"
    },
    {
     "name": "stderr",
     "output_type": "stream",
     "text": [
      "/var/folders/5j/bz9y36mx4k391r74dcjtzzt40000gp/T/ipykernel_98870/399564805.py:22: PerformanceWarning: DataFrame is highly fragmented.  This is usually the result of calling `frame.insert` many times, which has poor performance.  Consider joining all columns at once using pd.concat(axis=1) instead. To get a de-fragmented frame, use `newframe = frame.copy()`\n",
      "  all_pairs[f'attribute_{key}_eq_jaccard'] = (\n"
     ]
    },
    {
     "data": {
      "application/vnd.jupyter.widget-view+json": {
       "model_id": "e12bdbcfae334ca59269365a961be43a",
       "version_major": 2,
       "version_minor": 0
      },
      "text/plain": [
       "  0%|          | 0/18084 [00:00<?, ?it/s]"
      ]
     },
     "metadata": {},
     "output_type": "display_data"
    },
    {
     "name": "stderr",
     "output_type": "stream",
     "text": [
      "/var/folders/5j/bz9y36mx4k391r74dcjtzzt40000gp/T/ipykernel_98870/399564805.py:22: PerformanceWarning: DataFrame is highly fragmented.  This is usually the result of calling `frame.insert` many times, which has poor performance.  Consider joining all columns at once using pd.concat(axis=1) instead. To get a de-fragmented frame, use `newframe = frame.copy()`\n",
      "  all_pairs[f'attribute_{key}_eq_jaccard'] = (\n"
     ]
    },
    {
     "data": {
      "application/vnd.jupyter.widget-view+json": {
       "model_id": "4a5ad75f8d0245f690ab7542ebe1e311",
       "version_major": 2,
       "version_minor": 0
      },
      "text/plain": [
       "  0%|          | 0/18084 [00:00<?, ?it/s]"
      ]
     },
     "metadata": {},
     "output_type": "display_data"
    },
    {
     "name": "stderr",
     "output_type": "stream",
     "text": [
      "/var/folders/5j/bz9y36mx4k391r74dcjtzzt40000gp/T/ipykernel_98870/399564805.py:22: PerformanceWarning: DataFrame is highly fragmented.  This is usually the result of calling `frame.insert` many times, which has poor performance.  Consider joining all columns at once using pd.concat(axis=1) instead. To get a de-fragmented frame, use `newframe = frame.copy()`\n",
      "  all_pairs[f'attribute_{key}_eq_jaccard'] = (\n"
     ]
    },
    {
     "data": {
      "application/vnd.jupyter.widget-view+json": {
       "model_id": "8db0c48985664808accf62497f80649d",
       "version_major": 2,
       "version_minor": 0
      },
      "text/plain": [
       "  0%|          | 0/18084 [00:00<?, ?it/s]"
      ]
     },
     "metadata": {},
     "output_type": "display_data"
    },
    {
     "name": "stderr",
     "output_type": "stream",
     "text": [
      "/var/folders/5j/bz9y36mx4k391r74dcjtzzt40000gp/T/ipykernel_98870/399564805.py:22: PerformanceWarning: DataFrame is highly fragmented.  This is usually the result of calling `frame.insert` many times, which has poor performance.  Consider joining all columns at once using pd.concat(axis=1) instead. To get a de-fragmented frame, use `newframe = frame.copy()`\n",
      "  all_pairs[f'attribute_{key}_eq_jaccard'] = (\n"
     ]
    },
    {
     "data": {
      "application/vnd.jupyter.widget-view+json": {
       "model_id": "c4909c9ac9334e5699f4a45337e702a6",
       "version_major": 2,
       "version_minor": 0
      },
      "text/plain": [
       "  0%|          | 0/18084 [00:00<?, ?it/s]"
      ]
     },
     "metadata": {},
     "output_type": "display_data"
    },
    {
     "name": "stderr",
     "output_type": "stream",
     "text": [
      "/var/folders/5j/bz9y36mx4k391r74dcjtzzt40000gp/T/ipykernel_98870/399564805.py:22: PerformanceWarning: DataFrame is highly fragmented.  This is usually the result of calling `frame.insert` many times, which has poor performance.  Consider joining all columns at once using pd.concat(axis=1) instead. To get a de-fragmented frame, use `newframe = frame.copy()`\n",
      "  all_pairs[f'attribute_{key}_eq_jaccard'] = (\n"
     ]
    }
   ],
   "source": [
    "cnts = Counter()\n",
    "for c in data['characteristic_attributes_mapping'].values:\n",
    "    if c != c or not c:\n",
    "        continue\n",
    "    \n",
    "    cnts.update(set(c.keys()))\n",
    "    \n",
    "attribute_keys = [key for key, _ in cnts.most_common(100)]\n",
    "new_attributes_features = []\n",
    "\n",
    "unknown_set = set({'unknown'})\n",
    "\n",
    "for key in tqdm(attribute_keys):\n",
    "    all_pairs['_attr_1'] = all_pairs['characteristic_attributes_mapping_1'].apply(\n",
    "        lambda x: set(x.get(key, ['unknown'])) if x is not None else set({'null'}),\n",
    "    )\n",
    "    \n",
    "    all_pairs['_attr_2'] = all_pairs['characteristic_attributes_mapping_2'].apply(\n",
    "        lambda x: set(x.get(key, ['unknown'])) if x is not None else set({'null'}),\n",
    "    )\n",
    "\n",
    "    all_pairs[f'attribute_{key}_eq_jaccard'] = (\n",
    "        all_pairs.progress_apply(lambda x: jaccard(x['_attr_1'], x['_attr_2']), axis=1)\n",
    "    )"
   ]
  },
  {
   "cell_type": "code",
   "execution_count": 76,
   "id": "212a15a8",
   "metadata": {},
   "outputs": [
    {
     "name": "stderr",
     "output_type": "stream",
     "text": [
      "/var/folders/5j/bz9y36mx4k391r74dcjtzzt40000gp/T/ipykernel_98870/133457156.py:15: PerformanceWarning: DataFrame is highly fragmented.  This is usually the result of calling `frame.insert` many times, which has poor performance.  Consider joining all columns at once using pd.concat(axis=1) instead. To get a de-fragmented frame, use `newframe = frame.copy()`\n",
      "  all_pairs.loc[:, 'iphone_version_1'] = all_pairs['name_1'].apply(get_iphone_version)\n",
      "/var/folders/5j/bz9y36mx4k391r74dcjtzzt40000gp/T/ipykernel_98870/133457156.py:16: PerformanceWarning: DataFrame is highly fragmented.  This is usually the result of calling `frame.insert` many times, which has poor performance.  Consider joining all columns at once using pd.concat(axis=1) instead. To get a de-fragmented frame, use `newframe = frame.copy()`\n",
      "  all_pairs.loc[:, 'iphone_version_2'] = all_pairs['name_2'].apply(get_iphone_version)\n",
      "/var/folders/5j/bz9y36mx4k391r74dcjtzzt40000gp/T/ipykernel_98870/133457156.py:18: PerformanceWarning: DataFrame is highly fragmented.  This is usually the result of calling `frame.insert` many times, which has poor performance.  Consider joining all columns at once using pd.concat(axis=1) instead. To get a de-fragmented frame, use `newframe = frame.copy()`\n",
      "  all_pairs.loc[:, 'iphone_spec_1'] = all_pairs['name_1'].apply(get_iphone_spec)\n",
      "/var/folders/5j/bz9y36mx4k391r74dcjtzzt40000gp/T/ipykernel_98870/133457156.py:19: PerformanceWarning: DataFrame is highly fragmented.  This is usually the result of calling `frame.insert` many times, which has poor performance.  Consider joining all columns at once using pd.concat(axis=1) instead. To get a de-fragmented frame, use `newframe = frame.copy()`\n",
      "  all_pairs.loc[:, 'iphone_spec_2'] = all_pairs['name_2'].apply(get_iphone_spec)\n"
     ]
    }
   ],
   "source": [
    "def get_iphone_version(x):\n",
    "    try:\n",
    "        return re.search(r'(7|8|11|12|13|14|xr|xs|se|x)', x.lower()).group()\n",
    "    except:\n",
    "        return 'None'\n",
    "\n",
    "    \n",
    "def get_iphone_spec(x):\n",
    "    try:\n",
    "        return re.search(r'(mini|pro max|pro|max|plus)', x.lower()).group()\n",
    "    except:\n",
    "        return 'None'\n",
    "\n",
    "\n",
    "all_pairs.loc[:, 'iphone_version_1'] = all_pairs['name_1'].apply(get_iphone_version)\n",
    "all_pairs.loc[:, 'iphone_version_2'] = all_pairs['name_2'].apply(get_iphone_version)\n",
    "\n",
    "all_pairs.loc[:, 'iphone_spec_1'] = all_pairs['name_1'].apply(get_iphone_spec)\n",
    "all_pairs.loc[:, 'iphone_spec_2'] = all_pairs['name_2'].apply(get_iphone_spec)"
   ]
  },
  {
   "cell_type": "code",
   "execution_count": 77,
   "id": "7b71184e",
   "metadata": {},
   "outputs": [
    {
     "name": "stderr",
     "output_type": "stream",
     "text": [
      "/var/folders/5j/bz9y36mx4k391r74dcjtzzt40000gp/T/ipykernel_98870/1195915275.py:1: PerformanceWarning: DataFrame is highly fragmented.  This is usually the result of calling `frame.insert` many times, which has poor performance.  Consider joining all columns at once using pd.concat(axis=1) instead. To get a de-fragmented frame, use `newframe = frame.copy()`\n",
      "  all_pairs.loc[:, 'iphone_version_eq'] = all_pairs['iphone_version_1'] == all_pairs['iphone_version_2']\n",
      "/var/folders/5j/bz9y36mx4k391r74dcjtzzt40000gp/T/ipykernel_98870/1195915275.py:2: PerformanceWarning: DataFrame is highly fragmented.  This is usually the result of calling `frame.insert` many times, which has poor performance.  Consider joining all columns at once using pd.concat(axis=1) instead. To get a de-fragmented frame, use `newframe = frame.copy()`\n",
      "  all_pairs.loc[:, 'iphone_spec_eq'] = all_pairs['iphone_spec_1'] == all_pairs['iphone_spec_2']\n"
     ]
    }
   ],
   "source": [
    "all_pairs.loc[:, 'iphone_version_eq'] = all_pairs['iphone_version_1'] == all_pairs['iphone_version_2']\n",
    "all_pairs.loc[:, 'iphone_spec_eq'] = all_pairs['iphone_spec_1'] == all_pairs['iphone_spec_2']"
   ]
  },
  {
   "cell_type": "code",
   "execution_count": 78,
   "id": "13e2ac73",
   "metadata": {},
   "outputs": [
    {
     "name": "stderr",
     "output_type": "stream",
     "text": [
      "/var/folders/5j/bz9y36mx4k391r74dcjtzzt40000gp/T/ipykernel_98870/3088532804.py:14: PerformanceWarning: DataFrame is highly fragmented.  This is usually the result of calling `frame.insert` many times, which has poor performance.  Consider joining all columns at once using pd.concat(axis=1) instead. To get a de-fragmented frame, use `newframe = frame.copy()`\n",
      "  all_pairs.loc[:, 'watches_size_1'] = all_pairs['name_1'].apply(get_watch_size)\n",
      "/var/folders/5j/bz9y36mx4k391r74dcjtzzt40000gp/T/ipykernel_98870/3088532804.py:15: PerformanceWarning: DataFrame is highly fragmented.  This is usually the result of calling `frame.insert` many times, which has poor performance.  Consider joining all columns at once using pd.concat(axis=1) instead. To get a de-fragmented frame, use `newframe = frame.copy()`\n",
      "  all_pairs.loc[:, 'watches_size_2'] = all_pairs['name_2'].apply(get_watch_size)\n",
      "/var/folders/5j/bz9y36mx4k391r74dcjtzzt40000gp/T/ipykernel_98870/3088532804.py:17: PerformanceWarning: DataFrame is highly fragmented.  This is usually the result of calling `frame.insert` many times, which has poor performance.  Consider joining all columns at once using pd.concat(axis=1) instead. To get a de-fragmented frame, use `newframe = frame.copy()`\n",
      "  all_pairs.loc[:, 'watches_for_1'] = all_pairs['name_1'].apply(get_for_watches)\n",
      "/var/folders/5j/bz9y36mx4k391r74dcjtzzt40000gp/T/ipykernel_98870/3088532804.py:18: PerformanceWarning: DataFrame is highly fragmented.  This is usually the result of calling `frame.insert` many times, which has poor performance.  Consider joining all columns at once using pd.concat(axis=1) instead. To get a de-fragmented frame, use `newframe = frame.copy()`\n",
      "  all_pairs.loc[:, 'watches_for_2'] = all_pairs['name_2'].apply(get_for_watches)\n"
     ]
    }
   ],
   "source": [
    "def get_watch_size(x):\n",
    "    try:\n",
    "        return re.search(r'(\\d+)\\s?(mm|мм)', x.lower()).group(1).strip(' ')\n",
    "    except:\n",
    "        return 'None'\n",
    "\n",
    "    \n",
    "def get_for_watches(x):\n",
    "    try:\n",
    "        return re.search(r'(для|для часов)\\s([a-zA-Z\\s\\d\\/]+)', x.lower()).group(2).strip(' ')\n",
    "    except:\n",
    "        return 'None'\n",
    "\n",
    "all_pairs.loc[:, 'watches_size_1'] = all_pairs['name_1'].apply(get_watch_size)\n",
    "all_pairs.loc[:, 'watches_size_2'] = all_pairs['name_2'].apply(get_watch_size)\n",
    "\n",
    "all_pairs.loc[:, 'watches_for_1'] = all_pairs['name_1'].apply(get_for_watches)\n",
    "all_pairs.loc[:, 'watches_for_2'] = all_pairs['name_2'].apply(get_for_watches)"
   ]
  },
  {
   "cell_type": "code",
   "execution_count": 79,
   "id": "2a3e9e1a",
   "metadata": {},
   "outputs": [
    {
     "name": "stderr",
     "output_type": "stream",
     "text": [
      "/var/folders/5j/bz9y36mx4k391r74dcjtzzt40000gp/T/ipykernel_98870/2521062130.py:1: PerformanceWarning: DataFrame is highly fragmented.  This is usually the result of calling `frame.insert` many times, which has poor performance.  Consider joining all columns at once using pd.concat(axis=1) instead. To get a de-fragmented frame, use `newframe = frame.copy()`\n",
      "  all_pairs.loc[:, 'watches_size_eq'] = all_pairs['watches_size_1'] == all_pairs['watches_size_2']\n",
      "/var/folders/5j/bz9y36mx4k391r74dcjtzzt40000gp/T/ipykernel_98870/2521062130.py:2: PerformanceWarning: DataFrame is highly fragmented.  This is usually the result of calling `frame.insert` many times, which has poor performance.  Consider joining all columns at once using pd.concat(axis=1) instead. To get a de-fragmented frame, use `newframe = frame.copy()`\n",
      "  all_pairs.loc[:, 'watches_for_eq'] = all_pairs['watches_for_1'] == all_pairs['watches_for_2']\n"
     ]
    }
   ],
   "source": [
    "all_pairs.loc[:, 'watches_size_eq'] = all_pairs['watches_size_1'] == all_pairs['watches_size_2']\n",
    "all_pairs.loc[:, 'watches_for_eq'] = all_pairs['watches_for_1'] == all_pairs['watches_for_2']"
   ]
  },
  {
   "cell_type": "code",
   "execution_count": 80,
   "id": "5cb25231",
   "metadata": {},
   "outputs": [
    {
     "name": "stderr",
     "output_type": "stream",
     "text": [
      "/var/folders/5j/bz9y36mx4k391r74dcjtzzt40000gp/T/ipykernel_98870/1750018177.py:7: PerformanceWarning: DataFrame is highly fragmented.  This is usually the result of calling `frame.insert` many times, which has poor performance.  Consider joining all columns at once using pd.concat(axis=1) instead. To get a de-fragmented frame, use `newframe = frame.copy()`\n",
      "  all_pairs.loc[:, 'cable_length_1'] = all_pairs['name_1'].apply(get_length)\n",
      "/var/folders/5j/bz9y36mx4k391r74dcjtzzt40000gp/T/ipykernel_98870/1750018177.py:8: PerformanceWarning: DataFrame is highly fragmented.  This is usually the result of calling `frame.insert` many times, which has poor performance.  Consider joining all columns at once using pd.concat(axis=1) instead. To get a de-fragmented frame, use `newframe = frame.copy()`\n",
      "  all_pairs.loc[:, 'cable_length_2'] = all_pairs['name_2'].apply(get_length)\n"
     ]
    }
   ],
   "source": [
    "def get_length(x):\n",
    "    try:\n",
    "        return re.search(r'(\\d+)\\s?(m|м)', x.lower()).group(1).strip(' ')\n",
    "    except:\n",
    "        return 'None'\n",
    "\n",
    "all_pairs.loc[:, 'cable_length_1'] = all_pairs['name_1'].apply(get_length)\n",
    "all_pairs.loc[:, 'cable_length_2'] = all_pairs['name_2'].apply(get_length)"
   ]
  },
  {
   "cell_type": "code",
   "execution_count": 81,
   "id": "db947ea9",
   "metadata": {},
   "outputs": [
    {
     "name": "stderr",
     "output_type": "stream",
     "text": [
      "/var/folders/5j/bz9y36mx4k391r74dcjtzzt40000gp/T/ipykernel_98870/675684658.py:1: PerformanceWarning: DataFrame is highly fragmented.  This is usually the result of calling `frame.insert` many times, which has poor performance.  Consider joining all columns at once using pd.concat(axis=1) instead. To get a de-fragmented frame, use `newframe = frame.copy()`\n",
      "  all_pairs.loc[:, 'cable_length_eq'] = all_pairs['cable_length_1'] == all_pairs['cable_length_2']\n"
     ]
    }
   ],
   "source": [
    "all_pairs.loc[:, 'cable_length_eq'] = all_pairs['cable_length_1'] == all_pairs['cable_length_2']"
   ]
  },
  {
   "cell_type": "code",
   "execution_count": 82,
   "id": "2eb97e3e",
   "metadata": {},
   "outputs": [
    {
     "name": "stderr",
     "output_type": "stream",
     "text": [
      "/var/folders/5j/bz9y36mx4k391r74dcjtzzt40000gp/T/ipykernel_98870/257573013.py:7: PerformanceWarning: DataFrame is highly fragmented.  This is usually the result of calling `frame.insert` many times, which has poor performance.  Consider joining all columns at once using pd.concat(axis=1) instead. To get a de-fragmented frame, use `newframe = frame.copy()`\n",
      "  all_pairs.loc[:, 'pieces_1'] = all_pairs['name_1'].apply(get_pieces)\n",
      "/var/folders/5j/bz9y36mx4k391r74dcjtzzt40000gp/T/ipykernel_98870/257573013.py:8: PerformanceWarning: DataFrame is highly fragmented.  This is usually the result of calling `frame.insert` many times, which has poor performance.  Consider joining all columns at once using pd.concat(axis=1) instead. To get a de-fragmented frame, use `newframe = frame.copy()`\n",
      "  all_pairs.loc[:, 'pieces_2'] = all_pairs['name_2'].apply(get_pieces)\n"
     ]
    }
   ],
   "source": [
    "def get_pieces(x):\n",
    "    try:\n",
    "        return re.search(r'(\\d+)\\s?(шт)', x.lower()).group(1).strip(' ')\n",
    "    except:\n",
    "        return 'None'\n",
    "\n",
    "all_pairs.loc[:, 'pieces_1'] = all_pairs['name_1'].apply(get_pieces)\n",
    "all_pairs.loc[:, 'pieces_2'] = all_pairs['name_2'].apply(get_pieces)"
   ]
  },
  {
   "cell_type": "code",
   "execution_count": 83,
   "id": "f1a735c2",
   "metadata": {},
   "outputs": [
    {
     "name": "stderr",
     "output_type": "stream",
     "text": [
      "/var/folders/5j/bz9y36mx4k391r74dcjtzzt40000gp/T/ipykernel_98870/536052679.py:1: PerformanceWarning: DataFrame is highly fragmented.  This is usually the result of calling `frame.insert` many times, which has poor performance.  Consider joining all columns at once using pd.concat(axis=1) instead. To get a de-fragmented frame, use `newframe = frame.copy()`\n",
      "  all_pairs.loc[:, 'pieces_eq'] = all_pairs['pieces_1'] == all_pairs['pieces_2']\n"
     ]
    }
   ],
   "source": [
    "all_pairs.loc[:, 'pieces_eq'] = all_pairs['pieces_1'] == all_pairs['pieces_2']"
   ]
  },
  {
   "cell_type": "code",
   "execution_count": 84,
   "id": "7df42bb0",
   "metadata": {},
   "outputs": [
    {
     "name": "stderr",
     "output_type": "stream",
     "text": [
      "/var/folders/5j/bz9y36mx4k391r74dcjtzzt40000gp/T/ipykernel_98870/2174812739.py:9: PerformanceWarning: DataFrame is highly fragmented.  This is usually the result of calling `frame.insert` many times, which has poor performance.  Consider joining all columns at once using pd.concat(axis=1) instead. To get a de-fragmented frame, use `newframe = frame.copy()`\n",
      "  all_pairs['_models_1'] = all_pairs['name_1'].apply(lambda x: [process(t) for t in re.findall(regex, x)])\n",
      "/var/folders/5j/bz9y36mx4k391r74dcjtzzt40000gp/T/ipykernel_98870/2174812739.py:10: PerformanceWarning: DataFrame is highly fragmented.  This is usually the result of calling `frame.insert` many times, which has poor performance.  Consider joining all columns at once using pd.concat(axis=1) instead. To get a de-fragmented frame, use `newframe = frame.copy()`\n",
      "  all_pairs['_models_2'] = all_pairs['name_2'].apply(lambda x: [process(t) for t in re.findall(regex, x)])\n"
     ]
    }
   ],
   "source": [
    "regex = '(?:Samsung|Apple|Sony|LG|Panasonic|Intel|Toshiba|Dell|HP|Microsoft|IBM|Lenovo|Nokia|Canon|Huawei|ASUS|Xiaomi|Cisco Systems|Hitachi|Philips|Fujitsu|Oracle|Acer|NEC|TCL|Sharp|GoPro|Vizio|Honeywell|Siemens|Western Digital|Hewlett Packard Enterprise|Alibaba|Jabil|Qualcomm|Texas Instruments|Nvidia|LG Display|SK Hynix|Hon Hai Precision Industry (Foxconn)|Ericsson|ZTE|Oppo|Vivo|Lenovo Group|BYD|Wistron|Pegatron|Flex|Wacom|Microchip Technology|Kyocera|OnePlus|Doogee|Palit|JBL|iPhone|IRONSET|Gigabyte|DVD-R|realme|RyzenPC|Honor|MSI|Hi-Black|Hoco|Phaser|M12|BBK|Razer|Redmi|Amazfit|Remax|Cactus|Dahua|Dyson|Baseus)\\\\s+([a-zA-Z\\\\s\\\\d\\\\/\\\\-\\\\+]+)'\n",
    "\n",
    "def process(x):\n",
    "    if len(x) != 2:\n",
    "        raise Exception\n",
    "    x = x[1]\n",
    "    return [w for w in x.lower().split(' ') if w]\n",
    "\n",
    "all_pairs['_models_1'] = all_pairs['name_1'].apply(lambda x: [process(t) for t in re.findall(regex, x)])\n",
    "all_pairs['_models_2'] = all_pairs['name_2'].apply(lambda x: [process(t) for t in re.findall(regex, x)])"
   ]
  },
  {
   "cell_type": "code",
   "execution_count": 85,
   "id": "8f4b190b",
   "metadata": {},
   "outputs": [
    {
     "data": {
      "application/vnd.jupyter.widget-view+json": {
       "model_id": "addd7991d4f0404db6c1af74189f829e",
       "version_major": 2,
       "version_minor": 0
      },
      "text/plain": [
       "  0%|          | 0/18084 [00:00<?, ?it/s]"
      ]
     },
     "metadata": {},
     "output_type": "display_data"
    },
    {
     "name": "stderr",
     "output_type": "stream",
     "text": [
      "/var/folders/5j/bz9y36mx4k391r74dcjtzzt40000gp/T/ipykernel_98870/4033834202.py:13: PerformanceWarning: DataFrame is highly fragmented.  This is usually the result of calling `frame.insert` many times, which has poor performance.  Consider joining all columns at once using pd.concat(axis=1) instead. To get a de-fragmented frame, use `newframe = frame.copy()`\n",
      "  all_pairs['jaccard_mat'] = (\n"
     ]
    }
   ],
   "source": [
    "def jaccard_mat(vs1, vs2):\n",
    "    mat = []\n",
    "    \n",
    "    try:\n",
    "        for v1 in vs1:\n",
    "            mat.append([])\n",
    "            for v2 in vs2:\n",
    "                mat[-1].append(jaccard(v1, v2))\n",
    "    except:\n",
    "        return []\n",
    "    return mat\n",
    "\n",
    "all_pairs['jaccard_mat'] = (\n",
    "    all_pairs.progress_apply(lambda row: jaccard_mat(row._models_1, row._models_2), axis=1)\n",
    ")"
   ]
  },
  {
   "cell_type": "code",
   "execution_count": 86,
   "id": "a5488744",
   "metadata": {},
   "outputs": [
    {
     "data": {
      "application/vnd.jupyter.widget-view+json": {
       "model_id": "6bfd01a0a5ce45e8800383e83c8c14dc",
       "version_major": 2,
       "version_minor": 0
      },
      "text/plain": [
       "  0%|          | 0/18084 [00:00<?, ?it/s]"
      ]
     },
     "metadata": {},
     "output_type": "display_data"
    },
    {
     "name": "stderr",
     "output_type": "stream",
     "text": [
      "/var/folders/5j/bz9y36mx4k391r74dcjtzzt40000gp/T/ipykernel_98870/3970105802.py:1: PerformanceWarning: DataFrame is highly fragmented.  This is usually the result of calling `frame.insert` many times, which has poor performance.  Consider joining all columns at once using pd.concat(axis=1) instead. To get a de-fragmented frame, use `newframe = frame.copy()`\n",
      "  all_pairs['max_jaccard'] = all_pairs['jaccard_mat'].progress_apply(\n"
     ]
    },
    {
     "data": {
      "application/vnd.jupyter.widget-view+json": {
       "model_id": "7174ccaa0b624da0bbcebc3d56d2bf82",
       "version_major": 2,
       "version_minor": 0
      },
      "text/plain": [
       "  0%|          | 0/18084 [00:00<?, ?it/s]"
      ]
     },
     "metadata": {},
     "output_type": "display_data"
    },
    {
     "name": "stderr",
     "output_type": "stream",
     "text": [
      "/var/folders/5j/bz9y36mx4k391r74dcjtzzt40000gp/T/ipykernel_98870/3970105802.py:5: PerformanceWarning: DataFrame is highly fragmented.  This is usually the result of calling `frame.insert` many times, which has poor performance.  Consider joining all columns at once using pd.concat(axis=1) instead. To get a de-fragmented frame, use `newframe = frame.copy()`\n",
      "  all_pairs['min_jaccard'] = all_pairs['jaccard_mat'].progress_apply(\n"
     ]
    },
    {
     "data": {
      "application/vnd.jupyter.widget-view+json": {
       "model_id": "81a8d7c8ca6547199ad42ffa74060cee",
       "version_major": 2,
       "version_minor": 0
      },
      "text/plain": [
       "  0%|          | 0/18084 [00:00<?, ?it/s]"
      ]
     },
     "metadata": {},
     "output_type": "display_data"
    },
    {
     "name": "stderr",
     "output_type": "stream",
     "text": [
      "/var/folders/5j/bz9y36mx4k391r74dcjtzzt40000gp/T/ipykernel_98870/3970105802.py:9: PerformanceWarning: DataFrame is highly fragmented.  This is usually the result of calling `frame.insert` many times, which has poor performance.  Consider joining all columns at once using pd.concat(axis=1) instead. To get a de-fragmented frame, use `newframe = frame.copy()`\n",
      "  all_pairs['max_mean_jaccard'] = all_pairs['jaccard_mat'].progress_apply(\n"
     ]
    },
    {
     "data": {
      "application/vnd.jupyter.widget-view+json": {
       "model_id": "0496fff9014945f0bebbe8554073f868",
       "version_major": 2,
       "version_minor": 0
      },
      "text/plain": [
       "  0%|          | 0/18084 [00:00<?, ?it/s]"
      ]
     },
     "metadata": {},
     "output_type": "display_data"
    },
    {
     "name": "stderr",
     "output_type": "stream",
     "text": [
      "/var/folders/5j/bz9y36mx4k391r74dcjtzzt40000gp/T/ipykernel_98870/3970105802.py:13: PerformanceWarning: DataFrame is highly fragmented.  This is usually the result of calling `frame.insert` many times, which has poor performance.  Consider joining all columns at once using pd.concat(axis=1) instead. To get a de-fragmented frame, use `newframe = frame.copy()`\n",
      "  all_pairs['max_min_jaccard'] = all_pairs['jaccard_mat'].progress_apply(\n"
     ]
    }
   ],
   "source": [
    "all_pairs['max_jaccard'] = all_pairs['jaccard_mat'].progress_apply(\n",
    "    lambda x: np.max(x) if x and x[0] else np.nan\n",
    ")\n",
    "\n",
    "all_pairs['min_jaccard'] = all_pairs['jaccard_mat'].progress_apply(\n",
    "    lambda x: np.min(x) if x and x[0] else np.nan\n",
    ")\n",
    "\n",
    "all_pairs['max_mean_jaccard'] = all_pairs['jaccard_mat'].progress_apply(\n",
    "    lambda x: np.mean(np.max(x, axis=0)) if x and x[0] else np.nan\n",
    ")\n",
    "\n",
    "all_pairs['max_min_jaccard'] = all_pairs['jaccard_mat'].progress_apply(\n",
    "    lambda x: np.min(np.max(x, axis=0)) if x and x[0] else np.nan\n",
    ")"
   ]
  },
  {
   "cell_type": "code",
   "execution_count": 87,
   "id": "9e199cd9",
   "metadata": {},
   "outputs": [
    {
     "data": {
      "application/vnd.jupyter.widget-view+json": {
       "model_id": "1145ca9520044caeafa0bea7287ba91a",
       "version_major": 2,
       "version_minor": 0
      },
      "text/plain": [
       "  0%|          | 0/18084 [00:00<?, ?it/s]"
      ]
     },
     "metadata": {},
     "output_type": "display_data"
    },
    {
     "name": "stderr",
     "output_type": "stream",
     "text": [
      "/var/folders/5j/bz9y36mx4k391r74dcjtzzt40000gp/T/ipykernel_98870/1403650681.py:15: PerformanceWarning: DataFrame is highly fragmented.  This is usually the result of calling `frame.insert` many times, which has poor performance.  Consider joining all columns at once using pd.concat(axis=1) instead. To get a de-fragmented frame, use `newframe = frame.copy()`\n",
      "  all_pairs['levenstein_mat'] = (\n"
     ]
    }
   ],
   "source": [
    "import Levenshtein\n",
    "\n",
    "def levenstein_mat(vs1, vs2):\n",
    "    mat = []\n",
    "    \n",
    "    try:\n",
    "        for v1 in vs1:\n",
    "            mat.append([])\n",
    "            for v2 in vs2:\n",
    "                mat[-1].append(Levenshtein.distance(v1, v2))\n",
    "    except:\n",
    "        return []\n",
    "    return mat\n",
    "\n",
    "all_pairs['levenstein_mat'] = (\n",
    "    all_pairs.progress_apply(lambda row: levenstein_mat(row._models_1, row._models_2), axis=1)\n",
    ")"
   ]
  },
  {
   "cell_type": "code",
   "execution_count": 88,
   "id": "9cd81f2b",
   "metadata": {},
   "outputs": [
    {
     "data": {
      "application/vnd.jupyter.widget-view+json": {
       "model_id": "59ba3e126782429aaad436b9c34ac7dd",
       "version_major": 2,
       "version_minor": 0
      },
      "text/plain": [
       "  0%|          | 0/18084 [00:00<?, ?it/s]"
      ]
     },
     "metadata": {},
     "output_type": "display_data"
    },
    {
     "name": "stderr",
     "output_type": "stream",
     "text": [
      "/var/folders/5j/bz9y36mx4k391r74dcjtzzt40000gp/T/ipykernel_98870/802510298.py:1: PerformanceWarning: DataFrame is highly fragmented.  This is usually the result of calling `frame.insert` many times, which has poor performance.  Consider joining all columns at once using pd.concat(axis=1) instead. To get a de-fragmented frame, use `newframe = frame.copy()`\n",
      "  all_pairs['max_levenstein'] = all_pairs['levenstein_mat'].progress_apply(\n"
     ]
    },
    {
     "data": {
      "application/vnd.jupyter.widget-view+json": {
       "model_id": "684ffbc6156c4d478c1fde6f25ae4bdb",
       "version_major": 2,
       "version_minor": 0
      },
      "text/plain": [
       "  0%|          | 0/18084 [00:00<?, ?it/s]"
      ]
     },
     "metadata": {},
     "output_type": "display_data"
    },
    {
     "name": "stderr",
     "output_type": "stream",
     "text": [
      "/var/folders/5j/bz9y36mx4k391r74dcjtzzt40000gp/T/ipykernel_98870/802510298.py:5: PerformanceWarning: DataFrame is highly fragmented.  This is usually the result of calling `frame.insert` many times, which has poor performance.  Consider joining all columns at once using pd.concat(axis=1) instead. To get a de-fragmented frame, use `newframe = frame.copy()`\n",
      "  all_pairs['min_levenstein'] = all_pairs['levenstein_mat'].progress_apply(\n"
     ]
    },
    {
     "data": {
      "application/vnd.jupyter.widget-view+json": {
       "model_id": "9b269fdfdab241688ee3d551e085c8d0",
       "version_major": 2,
       "version_minor": 0
      },
      "text/plain": [
       "  0%|          | 0/18084 [00:00<?, ?it/s]"
      ]
     },
     "metadata": {},
     "output_type": "display_data"
    },
    {
     "name": "stderr",
     "output_type": "stream",
     "text": [
      "/var/folders/5j/bz9y36mx4k391r74dcjtzzt40000gp/T/ipykernel_98870/802510298.py:9: PerformanceWarning: DataFrame is highly fragmented.  This is usually the result of calling `frame.insert` many times, which has poor performance.  Consider joining all columns at once using pd.concat(axis=1) instead. To get a de-fragmented frame, use `newframe = frame.copy()`\n",
      "  all_pairs['max_mean_levenstein'] = all_pairs['levenstein_mat'].progress_apply(\n"
     ]
    },
    {
     "data": {
      "application/vnd.jupyter.widget-view+json": {
       "model_id": "9e6785130a39436c8315be97e6a4fa38",
       "version_major": 2,
       "version_minor": 0
      },
      "text/plain": [
       "  0%|          | 0/18084 [00:00<?, ?it/s]"
      ]
     },
     "metadata": {},
     "output_type": "display_data"
    },
    {
     "name": "stderr",
     "output_type": "stream",
     "text": [
      "/var/folders/5j/bz9y36mx4k391r74dcjtzzt40000gp/T/ipykernel_98870/802510298.py:13: PerformanceWarning: DataFrame is highly fragmented.  This is usually the result of calling `frame.insert` many times, which has poor performance.  Consider joining all columns at once using pd.concat(axis=1) instead. To get a de-fragmented frame, use `newframe = frame.copy()`\n",
      "  all_pairs['max_min_levenstein'] = all_pairs['levenstein_mat'].progress_apply(\n"
     ]
    }
   ],
   "source": [
    "all_pairs['max_levenstein'] = all_pairs['levenstein_mat'].progress_apply(\n",
    "    lambda x: np.max(x) if x and x[0] else np.nan\n",
    ")\n",
    "\n",
    "all_pairs['min_levenstein'] = all_pairs['levenstein_mat'].progress_apply(\n",
    "    lambda x: np.min(x) if x and x[0] else np.nan\n",
    ")\n",
    "\n",
    "all_pairs['max_mean_levenstein'] = all_pairs['levenstein_mat'].progress_apply(\n",
    "    lambda x: np.mean(np.max(x, axis=0)) if x and x[0] else np.nan\n",
    ")\n",
    "\n",
    "all_pairs['max_min_levenstein'] = all_pairs['levenstein_mat'].progress_apply(\n",
    "    lambda x: np.min(np.max(x, axis=0)) if x and x[0] else np.nan\n",
    ")"
   ]
  },
  {
   "cell_type": "code",
   "execution_count": 89,
   "id": "494d205b",
   "metadata": {},
   "outputs": [
    {
     "data": {
      "application/vnd.jupyter.widget-view+json": {
       "model_id": "2fadc0ffa5084e9fbdb449d20a4a6265",
       "version_major": 2,
       "version_minor": 0
      },
      "text/plain": [
       "  0%|          | 0/18084 [00:00<?, ?it/s]"
      ]
     },
     "metadata": {},
     "output_type": "display_data"
    },
    {
     "name": "stderr",
     "output_type": "stream",
     "text": [
      "/var/folders/5j/bz9y36mx4k391r74dcjtzzt40000gp/T/ipykernel_98870/1057409687.py:1: PerformanceWarning: DataFrame is highly fragmented.  This is usually the result of calling `frame.insert` many times, which has poor performance.  Consider joining all columns at once using pd.concat(axis=1) instead. To get a de-fragmented frame, use `newframe = frame.copy()`\n",
      "  all_pairs['tokenized_ebi_silno_name_1'] = (\n"
     ]
    },
    {
     "data": {
      "application/vnd.jupyter.widget-view+json": {
       "model_id": "a2d4fd3c5dfd4f6f9ad6cff220a1ddb2",
       "version_major": 2,
       "version_minor": 0
      },
      "text/plain": [
       "  0%|          | 0/18084 [00:00<?, ?it/s]"
      ]
     },
     "metadata": {},
     "output_type": "display_data"
    },
    {
     "name": "stderr",
     "output_type": "stream",
     "text": [
      "/var/folders/5j/bz9y36mx4k391r74dcjtzzt40000gp/T/ipykernel_98870/1057409687.py:4: PerformanceWarning: DataFrame is highly fragmented.  This is usually the result of calling `frame.insert` many times, which has poor performance.  Consider joining all columns at once using pd.concat(axis=1) instead. To get a de-fragmented frame, use `newframe = frame.copy()`\n",
      "  all_pairs['tokenized_ebi_silno_name_2'] = (\n"
     ]
    }
   ],
   "source": [
    "all_pairs['tokenized_ebi_silno_name_1'] = (\n",
    "    all_pairs['name_1'].progress_apply(lambda x: re.findall(f'\\((.*?)\\)', x.lower()))\n",
    ")\n",
    "all_pairs['tokenized_ebi_silno_name_2'] = (\n",
    "    all_pairs['name_2'].progress_apply(lambda x: re.findall(f'\\((.*?)\\)', x.lower()))\n",
    ")"
   ]
  },
  {
   "cell_type": "code",
   "execution_count": 90,
   "id": "05fbe4bd",
   "metadata": {},
   "outputs": [
    {
     "data": {
      "application/vnd.jupyter.widget-view+json": {
       "model_id": "c527ff2c9883446884da29cca4345afd",
       "version_major": 2,
       "version_minor": 0
      },
      "text/plain": [
       "  0%|          | 0/18084 [00:00<?, ?it/s]"
      ]
     },
     "metadata": {},
     "output_type": "display_data"
    },
    {
     "name": "stderr",
     "output_type": "stream",
     "text": [
      "/var/folders/5j/bz9y36mx4k391r74dcjtzzt40000gp/T/ipykernel_98870/1902521324.py:9: PerformanceWarning: DataFrame is highly fragmented.  This is usually the result of calling `frame.insert` many times, which has poor performance.  Consider joining all columns at once using pd.concat(axis=1) instead. To get a de-fragmented frame, use `newframe = frame.copy()`\n",
      "  all_pairs['tokenized_ebi_silno_name_jaccard'] = all_pairs.progress_apply(\n"
     ]
    },
    {
     "data": {
      "application/vnd.jupyter.widget-view+json": {
       "model_id": "d37f83dde093419f9e934375f8844a7c",
       "version_major": 2,
       "version_minor": 0
      },
      "text/plain": [
       "  0%|          | 0/18084 [00:00<?, ?it/s]"
      ]
     },
     "metadata": {},
     "output_type": "display_data"
    },
    {
     "name": "stderr",
     "output_type": "stream",
     "text": [
      "/var/folders/5j/bz9y36mx4k391r74dcjtzzt40000gp/T/ipykernel_98870/1902521324.py:14: PerformanceWarning: DataFrame is highly fragmented.  This is usually the result of calling `frame.insert` many times, which has poor performance.  Consider joining all columns at once using pd.concat(axis=1) instead. To get a de-fragmented frame, use `newframe = frame.copy()`\n",
      "  all_pairs['tokenized_name_ebi_silno_jaccard_left'] = all_pairs.progress_apply(\n"
     ]
    },
    {
     "data": {
      "application/vnd.jupyter.widget-view+json": {
       "model_id": "12011bd2b6e74d0ca6c1713f4199720b",
       "version_major": 2,
       "version_minor": 0
      },
      "text/plain": [
       "  0%|          | 0/18084 [00:00<?, ?it/s]"
      ]
     },
     "metadata": {},
     "output_type": "display_data"
    },
    {
     "name": "stderr",
     "output_type": "stream",
     "text": [
      "/var/folders/5j/bz9y36mx4k391r74dcjtzzt40000gp/T/ipykernel_98870/1902521324.py:19: PerformanceWarning: DataFrame is highly fragmented.  This is usually the result of calling `frame.insert` many times, which has poor performance.  Consider joining all columns at once using pd.concat(axis=1) instead. To get a de-fragmented frame, use `newframe = frame.copy()`\n",
      "  all_pairs['tokenized_name_ebi_silno_jaccard_right'] = all_pairs.progress_apply(\n"
     ]
    }
   ],
   "source": [
    "def process_empty(func):\n",
    "    def wrapper(a, b, *args, **kwargs):\n",
    "        if not a or not b:\n",
    "            return None\n",
    "        return func(a, b, *args, **kwargs)\n",
    "    return wrapper\n",
    "\n",
    "\n",
    "all_pairs['tokenized_ebi_silno_name_jaccard'] = all_pairs.progress_apply(\n",
    "    lambda row: process_empty(jaccard)(row.tokenized_ebi_silno_name_1, row.tokenized_ebi_silno_name_2),\n",
    "    axis=1,\n",
    ")\n",
    "\n",
    "all_pairs['tokenized_name_ebi_silno_jaccard_left'] = all_pairs.progress_apply(\n",
    "    lambda row: process_empty(jaccard)(row.tokenized_ebi_silno_name_1, row.tokenized_ebi_silno_name_2, how='left'),\n",
    "    axis=1,\n",
    ")\n",
    "\n",
    "all_pairs['tokenized_name_ebi_silno_jaccard_right'] = all_pairs.progress_apply(\n",
    "    lambda row: process_empty(jaccard)(row.tokenized_ebi_silno_name_1, row.tokenized_ebi_silno_name_2, how='right'),\n",
    "    axis=1,\n",
    ")"
   ]
  },
  {
   "cell_type": "code",
   "execution_count": 95,
   "id": "13bb711e",
   "metadata": {},
   "outputs": [
    {
     "data": {
      "application/vnd.jupyter.widget-view+json": {
       "model_id": "06ad664018484e1fbdafcd95d1f4a513",
       "version_major": 2,
       "version_minor": 0
      },
      "text/plain": [
       "  0%|          | 0/18084 [00:00<?, ?it/s]"
      ]
     },
     "metadata": {},
     "output_type": "display_data"
    },
    {
     "name": "stderr",
     "output_type": "stream",
     "text": [
      "/var/folders/5j/bz9y36mx4k391r74dcjtzzt40000gp/T/ipykernel_98870/3167356460.py:4: PerformanceWarning: DataFrame is highly fragmented.  This is usually the result of calling `frame.insert` many times, which has poor performance.  Consider joining all columns at once using pd.concat(axis=1) instead. To get a de-fragmented frame, use `newframe = frame.copy()`\n",
      "  all_pairs['names_in_brackets_jaccard'] = (\n"
     ]
    }
   ],
   "source": [
    "all_pairs['_name_processed_1'] = all_pairs['name_1'].apply(lambda x: re.findall(f'\\((.*?)\\)', x.lower()))\n",
    "all_pairs['_name_processed_2'] = all_pairs['name_2'].apply(lambda x: re.findall(f'\\((.*?)\\)', x.lower()))\n",
    "\n",
    "all_pairs['names_in_brackets_jaccard'] = (\n",
    "    all_pairs.progress_apply(lambda row: jaccard(row._name_processed_1, row._name_processed_2), axis=1)\n",
    ")"
   ]
  },
  {
   "cell_type": "code",
   "execution_count": 96,
   "id": "e18a8387",
   "metadata": {},
   "outputs": [],
   "source": [
    "test_dataset = all_pairs"
   ]
  },
  {
   "cell_type": "code",
   "execution_count": 97,
   "id": "07c1ba55",
   "metadata": {},
   "outputs": [],
   "source": [
    "# todo: try to add left and right jaccards and so on\n",
    "\n",
    "features = [\n",
    "    # basic\n",
    "\n",
    "    # names \n",
    "    'name_num_1',\n",
    "    'name_num_2',\n",
    "    'name_num_diff',\n",
    "    'tokenized_name_num_1',\n",
    "    'tokenized_name_num_2',\n",
    "    'tokenized_name_num_diff',\n",
    "    \n",
    "    'names_ebi_jaccard',\n",
    "    'names_ebi_jaccard_max',\n",
    "    'names_ebi_jaccard_mean',\n",
    "    '_names_ebi_jaccard_left',\n",
    "    '_names_ebi_jaccard_right',\n",
    "    'tokenized_names_ebi_num_1',\n",
    "    'tokenized_names_ebi_num_2', \n",
    "    'tokenized_names_ebi_num_diff',\n",
    "    \n",
    "    'tokenized_name_digits_1',\n",
    "    'tokenized_name_digits_2',\n",
    "    'tokenized_name_digits_diff',\n",
    "\n",
    "    'names_ebi_levenstein',\n",
    "    'names_ebi_hamming',\n",
    "    'names_ebi_jaro_winkler',\n",
    "    'names_ebi_jaro',\n",
    "    'names_ebi_damerau_levenshtein',\n",
    "    \n",
    "    'names_jaccard',\n",
    "    'names_jaccard_max',\n",
    "    'names_jaccard_mean',\n",
    "    'names_levenstein',\n",
    "    'names_hamming',\n",
    "    'names_jaro_winkler',\n",
    "    'names_jaro',\n",
    "    'names_damerau_levenshtein',\n",
    "    'names_bert_64_distance',\n",
    "    'names_w2v_distance',\n",
    "    'names_tfidf_distance',\n",
    "    \n",
    "    'names_2grams_jaccard',\n",
    "    'names_length_of_common_prefix',\n",
    "    \n",
    "    # colors\n",
    "    'color_parsed_jaccard',\n",
    "    'color_parsed_num_diff',\n",
    "    \n",
    "    # pictures\n",
    "    'main_pic_resnet_v1_distance',\n",
    "    'all_pic_distances_mean',\n",
    "    'all_pic_distances_min',\n",
    "    'all_pic_num_diff',    \n",
    "\n",
    "    # attributes\n",
    "    'attributes_jaccard',\n",
    "    'attributes_jaccard_max',\n",
    "    'attributes_jaccard_mean',\n",
    "    'attributes_keys_jaccard',\n",
    "    'attributes_values_avg_jaccard',\n",
    "    'attributes_w2v_distance',\n",
    "    'attributes_values_avg_fully_eq',\n",
    "    \n",
    "    'complectation_jaccard',\n",
    "    'name_of_colors_jaccard',\n",
    "    \n",
    "    'sum_of_attr_eq',\n",
    "    'sum_of_attr_both_unknown',\n",
    "    'sum_of_attr_any_unknown',\n",
    "    \n",
    "    'attributes_num_this_category',\n",
    "    'attributes_num_1',\n",
    "    'attributes_num_2',\n",
    "    'attributes_num_diff',\n",
    "    'attributes_num_normed_1',\n",
    "    'attributes_num_normed_2',\n",
    "    'attributes_num_empty_1',\n",
    "    'attributes_num_empty_2',\n",
    "    \n",
    "    'complectation_ebi_jaccard',\n",
    "    'fuzzywuzzy_ratio', \n",
    "    'fuzzywuzzy_partial_ratio',\n",
    "    'fuzzywuzzy_token_sort_ratio', \n",
    "    'fuzzywuzzy_token_set_ratio',\n",
    "    \n",
    "    'all_pic_distances_min_mean',\n",
    "    'all_pic_distances_min_max',\n",
    "    'all_pic_num_1',\n",
    "    'all_pic_num_2',\n",
    "    \n",
    "    'attr_color_jaccard',\n",
    "    'attr_color_jaccard_max',\n",
    "    'attr_color_jaccard_mean',\n",
    "    \n",
    "    'attributes_keys_top_1_for_category_jaccard',\n",
    "    'attributes_values_top_1_for_category_jaccard',\n",
    "    'attributes_keys_top_1_for_category_jaccard_left',\n",
    "    'attributes_values_top_1_for_category_jaccard_left',\n",
    "    'attributes_keys_top_1_for_category_jaccard_right',\n",
    "    'attributes_values_top_1_for_category_jaccard_right',\n",
    "    'attributes_values_top_1_for_category_fully_eq',\n",
    "    \n",
    "    'attributes_keys_top_3_for_category_jaccard',\n",
    "    'attributes_values_top_3_for_category_jaccard',\n",
    "    'attributes_values_top_3_for_category_fully_eq',\n",
    "    'attributes_keys_top_3_for_category_jaccard_left',\n",
    "    'attributes_values_top_3_for_category_jaccard_left',\n",
    "    'attributes_keys_top_3_for_category_jaccard_right',\n",
    "    'attributes_values_top_3_for_category_jaccard_right',\n",
    "    \n",
    "    'attributes_keys_top_5_for_category_jaccard',\n",
    "    'attributes_values_top_5_for_category_jaccard',\n",
    "    'attributes_values_top_5_for_category_fully_eq',\n",
    "    'attributes_keys_top_5_for_category_jaccard_left',\n",
    "    'attributes_values_top_5_for_category_jaccard_left',\n",
    "    'attributes_keys_top_5_for_category_jaccard_right',\n",
    "    'attributes_values_top_5_for_category_jaccard_right',\n",
    "    \n",
    "    'attributes_keys_top_10_for_category_jaccard',\n",
    "    'attributes_values_top_10_for_category_jaccard',\n",
    "    'attributes_values_top_10_for_category_fully_eq',\n",
    "    'attributes_keys_top_10_for_category_jaccard_left',\n",
    "    'attributes_values_top_10_for_category_jaccard_left',\n",
    "    'attributes_keys_top_10_for_category_jaccard_right',\n",
    "    'attributes_values_top_10_for_category_jaccard_right',\n",
    "    \n",
    "    'attributes_div',\n",
    "    \n",
    "    'names_no_digits_jaccard',\n",
    "    'names_ebi_levenstein_mean',\n",
    "    'names_in_brackets_levenstein_mean',\n",
    "    'names_in_brackets_jaccard',\n",
    "    'names_by_comma_jaccard',\n",
    "    \n",
    "    'names_ebi_tfidf_distance',\n",
    "    'ebi_vector_distance',\n",
    "    'names_ru_jaccard',\n",
    "    'names_en_jaccard',\n",
    "    'bert_768_vector_distance',\n",
    "    'complectation_names_jaccard_1',\n",
    "    'complectation_names_jaccard_2',\n",
    "    \n",
    "    'color_parsed_jaccard_left',\n",
    "    'color_parsed_jaccard_right',\n",
    "    'pic_dists_min_median',\n",
    "    'pic_dists_mean_1',\n",
    "    'pic_dists_median_1',\n",
    "    'pic_dists_max_1',\n",
    "    'pic_dists_mean_2',\n",
    "    'pic_dists_median_2',\n",
    "    'pic_dists_max_2',\n",
    "    'main_pic_resnet_v1_euc_distance',\n",
    "    'names_bert_64_euc_distance',\n",
    "    \n",
    "    'cable_length_eq',\n",
    "    'watches_size_eq',\n",
    "    'watches_for_eq',\n",
    "    'iphone_version_eq',\n",
    "    'iphone_spec_eq',\n",
    "    'pieces_eq',\n",
    "    \n",
    "    'tokenized_name_ebi_silno_jaccard_right',\n",
    "    'tokenized_name_ebi_silno_jaccard_left',\n",
    "    'tokenized_ebi_silno_name_jaccard',\n",
    "    'max_min_levenstein',\n",
    "    'max_mean_levenstein',\n",
    "    'max_levenstein',\n",
    "    'min_levenstein',\n",
    "    'max_min_jaccard',\n",
    "    'max_mean_jaccard',\n",
    "    'max_jaccard',\n",
    "    'min_jaccard',\n",
    "] + (\n",
    "    [c for c in all_pairs if c.startswith('attribute_') and c.endswith(('_eq', '_unknown', '_isnull', '_eq_jaccard'))]\n",
    ") + (\n",
    "    [c for c in all_pairs if c.startswith('tfidf_vectorizer_')]\n",
    ")\n",
    "\n",
    "cat_features = [\n",
    "    'category_3_1', \n",
    "    'category_4_1',\n",
    "    'category_3_2', \n",
    "    'category_4_2',\n",
    "    'brand_1',\n",
    "    'brand_2',\n",
    "    'type_1',\n",
    "    'type_2',\n",
    "    'name_1',\n",
    "    'name_2',\n",
    "    'variantid1',\n",
    "    'variantid2',\n",
    "    'cable_length_1',\n",
    "    'cable_length_2',\n",
    "    'watches_for_1',\n",
    "    'watches_for_2',\n",
    "    'iphone_version_1',\n",
    "    'iphone_version_2',\n",
    "    'iphone_spec_1',\n",
    "    'iphone_spec_2',\n",
    "    'pieces_1',\n",
    "    'pieces_2',\n",
    "]"
   ]
  },
  {
   "cell_type": "code",
   "execution_count": null,
   "id": "7f0f02f3",
   "metadata": {},
   "outputs": [],
   "source": []
  },
  {
   "cell_type": "code",
   "execution_count": 100,
   "id": "82e26b9e",
   "metadata": {},
   "outputs": [
    {
     "name": "stdout",
     "output_type": "stream",
     "text": [
      "2866 22\n"
     ]
    }
   ],
   "source": [
    "print(len(features), len(cat_features))"
   ]
  },
  {
   "cell_type": "code",
   "execution_count": 104,
   "id": "a4db873a",
   "metadata": {},
   "outputs": [
    {
     "data": {
      "application/vnd.jupyter.widget-view+json": {
       "model_id": "b878ddb21c09448fb3c347712e2cf3e5",
       "version_major": 2,
       "version_minor": 0
      },
      "text/plain": [
       "  0%|          | 0/5 [00:00<?, ?it/s]"
      ]
     },
     "metadata": {},
     "output_type": "display_data"
    }
   ],
   "source": [
    "from sklearn.model_selection import KFold\n",
    "\n",
    "\n",
    "oof_predictions = []\n",
    "\n",
    "for i in tqdm(range(5)):\n",
    "    model = cb.CatBoostClassifier().load_model(f'model_{i}.cb')\n",
    "    oof_predictions.append(model.predict_proba(test_dataset[features + cat_features])[:, 1])"
   ]
  },
  {
   "cell_type": "code",
   "execution_count": 105,
   "id": "d06f8125",
   "metadata": {},
   "outputs": [
    {
     "name": "stderr",
     "output_type": "stream",
     "text": [
      "/var/folders/5j/bz9y36mx4k391r74dcjtzzt40000gp/T/ipykernel_98870/2284089567.py:1: PerformanceWarning: DataFrame is highly fragmented.  This is usually the result of calling `frame.insert` many times, which has poor performance.  Consider joining all columns at once using pd.concat(axis=1) instead. To get a de-fragmented frame, use `newframe = frame.copy()`\n",
      "  test_dataset['prediction'] = np.mean(oof_predictions, axis=0)\n"
     ]
    }
   ],
   "source": [
    "test_dataset['prediction'] = np.mean(oof_predictions, axis=0)"
   ]
  },
  {
   "cell_type": "code",
   "execution_count": 106,
   "id": "5139bbb2",
   "metadata": {},
   "outputs": [],
   "source": [
    "submission = (\n",
    "    test_dataset[['variantid1', 'variantid2', 'prediction']].rename(columns={'prediction': 'target'})\n",
    ")\n",
    "submission.to_csv('submission.csv', index=False)"
   ]
  },
  {
   "cell_type": "code",
   "execution_count": null,
   "id": "01b2d86f",
   "metadata": {},
   "outputs": [],
   "source": []
  }
 ],
 "metadata": {
  "kernelspec": {
   "display_name": "Python 3 (ipykernel)",
   "language": "python",
   "name": "python3"
  },
  "language_info": {
   "codemirror_mode": {
    "name": "ipython",
    "version": 3
   },
   "file_extension": ".py",
   "mimetype": "text/x-python",
   "name": "python",
   "nbconvert_exporter": "python",
   "pygments_lexer": "ipython3",
   "version": "3.11.3"
  }
 },
 "nbformat": 4,
 "nbformat_minor": 5
}
